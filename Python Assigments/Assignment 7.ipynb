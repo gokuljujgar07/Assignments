{
 "cells": [
  {
   "cell_type": "markdown",
   "id": "92d6fc72-f195-46f5-a74e-192963075b2b",
   "metadata": {},
   "source": [
    "# Function Parameters and Argument Behavior"
   ]
  },
  {
   "cell_type": "markdown",
   "id": "8bf46a81-e2a0-4a21-b2ae-3de1577c26ae",
   "metadata": {},
   "source": [
    "# 1. Default Arguments\n",
    "## Q1. What will be the output of the following function call, and why? "
   ]
  },
  {
   "cell_type": "code",
   "execution_count": 1,
   "id": "528fd496-dc2e-44fc-b841-5b0a2d6d4315",
   "metadata": {},
   "outputs": [
    {
     "name": "stdout",
     "output_type": "stream",
     "text": [
      "1 2 8\n"
     ]
    }
   ],
   "source": [
    "def func(a, b=6, c=8):\n",
    "    print(a, b, c)\n",
    "\n",
    "func(1, 2)\n"
   ]
  },
  {
   "cell_type": "markdown",
   "id": "f654047c-a5d2-43cd-9f1f-d39849df4ef0",
   "metadata": {},
   "source": [
    "func(a, b=6, c=8) is a function with 3 parameters:\n",
    "\n",
    "- a – required\n",
    "\n",
    "- b – optional, default value is 6\n",
    "\n",
    "- c – optional, default value is 8\n",
    "\n",
    "Function Call: func(1, 2)\n",
    "Python matches arguments from left to right:\n",
    "\n",
    "- a = 1 --> first argument\n",
    "\n",
    "- b = 2 --> second argument\n",
    "\n",
    "- c is not provided, so it takes the default value 8"
   ]
  },
  {
   "cell_type": "markdown",
   "id": "7471f39d-1cbf-4961-88f5-2f04af02478b",
   "metadata": {},
   "source": [
    "# 2. Keyword Arguments with Defaults\n",
    "## Q2. Predict the output and explain:"
   ]
  },
  {
   "cell_type": "code",
   "execution_count": 2,
   "id": "b0659e0f-2636-41d5-abab-7bf1e1b5a007",
   "metadata": {},
   "outputs": [
    {
     "name": "stdout",
     "output_type": "stream",
     "text": [
      "1 2 3\n"
     ]
    }
   ],
   "source": [
    "def func(a, b, c=5):\n",
    "    print(a, b, c)\n",
    "\n",
    "func(1, c=3, b=2)\n"
   ]
  },
  {
   "cell_type": "markdown",
   "id": "a19bdb15-bd81-4de6-89a6-844914ea223e",
   "metadata": {},
   "source": [
    "- a = 1 (positional)\n",
    "\n",
    "- b = 2, c = 3 (keyword)\n",
    "\n",
    "- All values are given, so default c=5 is not used.\n",
    "\n"
   ]
  },
  {
   "cell_type": "markdown",
   "id": "a3d114c9-ae20-4e16-9553-6c38553493b3",
   "metadata": {},
   "source": [
    "# 3. Positional Variable-Length Arguments\n",
    "## Q3. Explain the behavior and output:"
   ]
  },
  {
   "cell_type": "code",
   "execution_count": 3,
   "id": "8183dec8-42f4-49b8-9564-bd728ba6792e",
   "metadata": {},
   "outputs": [
    {
     "name": "stdout",
     "output_type": "stream",
     "text": [
      "1 (2, 3)\n"
     ]
    }
   ],
   "source": [
    "def func(a, *pargs):\n",
    "    print(a, pargs)\n",
    "\n",
    "func(1, 2, 3)\n"
   ]
  },
  {
   "cell_type": "markdown",
   "id": "ccef5ad2-0f42-4d53-9d9f-019d1732d6e1",
   "metadata": {},
   "source": [
    "- a = 1 --> first positional argument\n",
    "\n",
    "- *pargs --> collects remaining values as a tuple\n",
    "--> pargs = (2, 3)"
   ]
  },
  {
   "cell_type": "markdown",
   "id": "5821fed7-165b-4bf8-815c-79b515c215fe",
   "metadata": {},
   "source": [
    "# 4. Keyword Variable-Length Arguments\n",
    "## Q4. What will this code print, and why?\n"
   ]
  },
  {
   "cell_type": "code",
   "execution_count": 5,
   "id": "8b08ac75-423c-4b99-9c3f-7e41112742b3",
   "metadata": {},
   "outputs": [
    {
     "name": "stdout",
     "output_type": "stream",
     "text": [
      "1 {'c': 3, 'b': 2}\n"
     ]
    }
   ],
   "source": [
    "def func(a, **kargs):\n",
    "    print(a, kargs)\n",
    "func(a=1, c=3, b=2)"
   ]
  },
  {
   "cell_type": "markdown",
   "id": "7458b0d8-7682-4bde-985c-78b48e908bcf",
   "metadata": {},
   "source": [
    "- a = 1 --> matched directly\n",
    "\n",
    "- **kargs collects other keyword arguments as a dictionary\n",
    "--> kargs = {'c': 3, 'b': 2}\n",
    "\n"
   ]
  },
  {
   "cell_type": "markdown",
   "id": "90713cda-38ba-47d3-8a18-c19c39821b3d",
   "metadata": {},
   "source": [
    "# 5. Mixing Positional and Unpacked Tuple Arguments\n",
    "## Q5. Explain the result of this call:"
   ]
  },
  {
   "cell_type": "code",
   "execution_count": 6,
   "id": "8dd443d7-45d9-4ede-9bc2-d849a0d29c8b",
   "metadata": {},
   "outputs": [
    {
     "name": "stdout",
     "output_type": "stream",
     "text": [
      "1 5 6 5\n"
     ]
    }
   ],
   "source": [
    "def func(a, b, c=8, d=5):\n",
    "    print(a, b, c, d)\n",
    "func(1, *(5, 6))"
   ]
  },
  {
   "cell_type": "markdown",
   "id": "2f827321-bdd4-497f-8679-58ad9780500d",
   "metadata": {},
   "source": [
    "- 1 --> a (positional)\n",
    "\n",
    "- *(5, 6) unpacks:\n",
    "\n",
    " 5 --> b\n",
    "\n",
    " 6 --> c\n",
    "\n",
    "- d not given --> uses default 5"
   ]
  },
  {
   "cell_type": "markdown",
   "id": "d97ad176-f85e-4359-bcd3-19df1ac19859",
   "metadata": {},
   "source": [
    "# 6. Mutable vs Immutable Behavior\n",
    "## Q6. Predict the output of the variables l, m, and n after this code runs:"
   ]
  },
  {
   "cell_type": "code",
   "execution_count": 7,
   "id": "5bef624e-5491-487b-8c4c-afa39806cca0",
   "metadata": {},
   "outputs": [
    {
     "name": "stdout",
     "output_type": "stream",
     "text": [
      "1 ['x'] {'a': 'y'}\n"
     ]
    }
   ],
   "source": [
    "def func(a, b, c):\n",
    "    a = 2\n",
    "    b[0] = 'x'\n",
    "    c['a'] = 'y'\n",
    "\n",
    "l = 1\n",
    "m = [1]\n",
    "n = {'a': 0}\n",
    "\n",
    "func(l, m, n)\n",
    "print(l, m, n)\n"
   ]
  },
  {
   "cell_type": "markdown",
   "id": "08ef6998-167d-4a03-a514-98695b6e99a9",
   "metadata": {},
   "source": [
    "- l = 1 --> immutable integer\n",
    "\n",
    "- m = [1] --> mutable list\n",
    "\n",
    "- n = {'a': 0} → mutable dictionary\n",
    "\n",
    "Inside func:\n",
    "\n",
    "- a = 2 --> changes local variable only, does NOT affect l outside\n",
    "\n",
    "- b[0] = 'x' --> modifies the list m in place, so m changes\n",
    "\n",
    "- c['a'] = 'y' --> modifies the dictionary n in place, so n changes"
   ]
  },
  {
   "cell_type": "markdown",
   "id": "93e75c7e-da89-44d1-9260-b2dae55c09a8",
   "metadata": {},
   "source": [
    "## Bonus Challenge\n",
    "## Write a function that accepts:\n",
    "- one required argument,\n",
    "- a variable number of positional arguments,\n",
    "- a variable number of keyword arguments,\n",
    "Then print all three components. Call it with:\n",
    "my_func(10, 20, 30, x=5, y=15)"
   ]
  },
  {
   "cell_type": "code",
   "execution_count": 8,
   "id": "1b943c60-23de-4075-a8af-257ec1877870",
   "metadata": {},
   "outputs": [
    {
     "name": "stdout",
     "output_type": "stream",
     "text": [
      "Required argument: 10\n",
      "Positional arguments: (20, 30)\n",
      "Keyword arguments: {'x': 5, 'y': 15}\n"
     ]
    }
   ],
   "source": [
    "def my_func(required_arg, *args, **kwargs):\n",
    "    print(\"Required argument:\", required_arg)\n",
    "    print(\"Positional arguments:\", args)\n",
    "    print(\"Keyword arguments:\", kwargs)\n",
    "\n",
    "\n",
    "my_func(10, 20, 30, x=5, y=15)\n"
   ]
  },
  {
   "cell_type": "code",
   "execution_count": null,
   "id": "a838af1c-16b2-464f-94aa-b3dfe63cd920",
   "metadata": {},
   "outputs": [],
   "source": []
  }
 ],
 "metadata": {
  "kernelspec": {
   "display_name": "Python 3 (ipykernel)",
   "language": "python",
   "name": "python3"
  },
  "language_info": {
   "codemirror_mode": {
    "name": "ipython",
    "version": 3
   },
   "file_extension": ".py",
   "mimetype": "text/x-python",
   "name": "python",
   "nbconvert_exporter": "python",
   "pygments_lexer": "ipython3",
   "version": "3.12.8"
  }
 },
 "nbformat": 4,
 "nbformat_minor": 5
}
