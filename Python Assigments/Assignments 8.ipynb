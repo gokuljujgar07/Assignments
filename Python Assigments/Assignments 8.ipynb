{
 "cells": [
  {
   "cell_type": "markdown",
   "id": "ae4cd8ae-19b9-4934-a437-cf5afd1cc8ae",
   "metadata": {},
   "source": [
    "# 1. Conditional Logic\n",
    "## Write a function that checks a number against 7 and prints:\n",
    "- 'too low' if less than 7,\n",
    "- 'just right' if equal to 7,\n",
    "- 'too high' if greater than 7.\n",
    "  \n",
    "Call the function with the values 7, 5, and 15."
   ]
  },
  {
   "cell_type": "code",
   "execution_count": 1,
   "id": "2601cf5c-575c-4af3-aba3-4e1138238eae",
   "metadata": {},
   "outputs": [],
   "source": [
    "def check_number(n):\n",
    "    if n < 7:\n",
    "        print(\"too low\")\n",
    "    elif n == 7 :\n",
    "        print(\"just righ\")\n",
    "    else:\n",
    "        print('too high')"
   ]
  },
  {
   "cell_type": "code",
   "execution_count": 2,
   "id": "63f34a68-dc84-4959-a33a-14d946ccc7ba",
   "metadata": {},
   "outputs": [
    {
     "name": "stdout",
     "output_type": "stream",
     "text": [
      "just righ\n"
     ]
    }
   ],
   "source": [
    "check_number(7)"
   ]
  },
  {
   "cell_type": "code",
   "execution_count": 3,
   "id": "fe89f458-6afc-4211-862e-1a3c1627a149",
   "metadata": {},
   "outputs": [
    {
     "name": "stdout",
     "output_type": "stream",
     "text": [
      "too low\n"
     ]
    }
   ],
   "source": [
    "check_number(5)"
   ]
  },
  {
   "cell_type": "code",
   "execution_count": 4,
   "id": "1f4455bd-73fb-466a-83e0-6778684a1dd0",
   "metadata": {},
   "outputs": [
    {
     "name": "stdout",
     "output_type": "stream",
     "text": [
      "too high\n"
     ]
    }
   ],
   "source": [
    "check_number(15)"
   ]
  },
  {
   "cell_type": "markdown",
   "id": "a404ed62-f808-4581-a183-071e7f51ed97",
   "metadata": {},
   "source": [
    "# 2. While Loop Comparison\n",
    "Assign:\n",
    "\n",
    "guess_me = 7\n",
    "\n",
    "start = 1\n",
    "\n",
    "Write a while True: loop that compares start with guess_me:\n",
    "- Print 'too low' if start < guess_me\n",
    "- Print 'found it' and break if equal\n",
    "- Print 'too high' and break if greater\n",
    "  \n",
    "Increment start at the end of each loop cycle."
   ]
  },
  {
   "cell_type": "code",
   "execution_count": 8,
   "id": "5b1b0c1a-5f45-4af5-b85a-56cea0e1e61c",
   "metadata": {},
   "outputs": [
    {
     "name": "stdout",
     "output_type": "stream",
     "text": [
      "too low\n",
      "too low\n",
      "too low\n",
      "too low\n",
      "too low\n",
      "too low\n",
      "found it\n"
     ]
    }
   ],
   "source": [
    "guess_me = 7\n",
    "start = 1\n",
    "while True :\n",
    "    if start < guess_me :\n",
    "        print('too low')\n",
    "    elif start == guess_me :\n",
    "        print('found it')\n",
    "        break\n",
    "    elif start > guess_me :\n",
    "        print(\"too high\")\n",
    "        break\n",
    "    start = start + 1"
   ]
  },
  {
   "cell_type": "markdown",
   "id": "9c44f5f6-a301-49f0-bcd6-0a263585ab94",
   "metadata": {},
   "source": [
    "# 3. Loop Through a List\n",
    "Use a for loop to print each element in this list:\n",
    "[3, 2, 1, 0]"
   ]
  },
  {
   "cell_type": "code",
   "execution_count": 9,
   "id": "a977fc0a-6712-4092-bdc4-4b0e96646e50",
   "metadata": {},
   "outputs": [
    {
     "name": "stdout",
     "output_type": "stream",
     "text": [
      "3\n",
      "2\n",
      "1\n",
      "0\n"
     ]
    }
   ],
   "source": [
    "list1 = [3,2,1,0]\n",
    "for i in list1 :\n",
    "    print(i)"
   ]
  },
  {
   "cell_type": "markdown",
   "id": "c23281f5-a967-49e2-89bf-77cc6e5c1698",
   "metadata": {},
   "source": [
    "# 4. List Comprehension\n",
    "Use a list comprehension to generate a list of even numbers from 0 to 10."
   ]
  },
  {
   "cell_type": "code",
   "execution_count": 11,
   "id": "9bfab1f8-c64e-420b-b626-72c0aeac4d83",
   "metadata": {},
   "outputs": [
    {
     "data": {
      "text/plain": [
       "[0, 2, 4, 6, 8, 10]"
      ]
     },
     "execution_count": 11,
     "metadata": {},
     "output_type": "execute_result"
    }
   ],
   "source": [
    "list(i for i in range(0,11) if i % 2 == 0 )"
   ]
  },
  {
   "cell_type": "markdown",
   "id": "3bc0d55c-64ed-41a6-a270-2249982e1dc3",
   "metadata": {},
   "source": [
    "# 5. Dictionary Comprehension\n",
    "Use a dictionary comprehension (or another method) to create a dictionary called squares\n",
    "\n",
    "where:\n",
    "- The keys are numbers from 0 to 9\n",
    "- The values are the squares of the keys"
   ]
  },
  {
   "cell_type": "code",
   "execution_count": 17,
   "id": "0bd0c71a-e95e-4947-b089-46a04d9d0a70",
   "metadata": {},
   "outputs": [
    {
     "data": {
      "text/plain": [
       "{0: 0, 1: 1, 2: 4, 3: 9, 4: 16, 5: 25, 6: 36, 7: 49, 8: 64, 9: 81}"
      ]
     },
     "execution_count": 17,
     "metadata": {},
     "output_type": "execute_result"
    }
   ],
   "source": [
    "dict({x: x**2 for x in range(0,10)})"
   ]
  },
  {
   "cell_type": "markdown",
   "id": "dea6e122-a1db-42f0-aeff-47ee02ffe310",
   "metadata": {},
   "source": [
    "# 6. Set Comprehension\n",
    "Create a set odd that contains all the odd numbers from 0 to 9 using a set comprehension."
   ]
  },
  {
   "cell_type": "code",
   "execution_count": 19,
   "id": "24c0ea2d-dea3-4b4f-b738-bee1262faf14",
   "metadata": {},
   "outputs": [
    {
     "data": {
      "text/plain": [
       "{1, 3, 5, 7, 9}"
      ]
     },
     "execution_count": 19,
     "metadata": {},
     "output_type": "execute_result"
    }
   ],
   "source": [
    "set(i for i in range(0,10) if i % 2 != 0 )"
   ]
  },
  {
   "cell_type": "markdown",
   "id": "953635f9-8539-40f9-bd1e-6a5cae049928",
   "metadata": {},
   "source": [
    "# 7. Generator Expression\n",
    "Use a generator expression to create strings like 'Got_0', 'Got_1', ..., 'Got_9'.\n",
    "\n",
    "Iterate over the generator using a for loop and print the results in one line separated by\n",
    "spaces."
   ]
  },
  {
   "cell_type": "code",
   "execution_count": 25,
   "id": "c3a89e4d-f112-4ab7-b96e-22a08b8ee487",
   "metadata": {},
   "outputs": [
    {
     "name": "stdout",
     "output_type": "stream",
     "text": [
      "Got_0 Got_1 Got_2 Got_3 Got_4 Got_5 Got_6 Got_7 Got_8 Got_9 "
     ]
    }
   ],
   "source": [
    "generator = (f\"Got_{i}\" for i in range(10))\n",
    "for i in generator:\n",
    "    print(i,end = \" \")"
   ]
  },
  {
   "cell_type": "markdown",
   "id": "b806095a-dcc4-40d4-93e1-45a101a44f24",
   "metadata": {},
   "source": [
    "# 8. Define a Simple Function\n",
    "Define a function good() that returns this list:\n",
    "['Harry', 'Ron', 'Hermione']"
   ]
  },
  {
   "cell_type": "code",
   "execution_count": 23,
   "id": "61df373b-fa50-4ba5-91a8-f7ab93ebe417",
   "metadata": {},
   "outputs": [],
   "source": [
    "def good():\n",
    "    return ['Harry', 'Ron', 'Hermione']"
   ]
  },
  {
   "cell_type": "code",
   "execution_count": 24,
   "id": "9abb2056-56d1-4a09-aa75-1a53dab8bb0c",
   "metadata": {},
   "outputs": [
    {
     "data": {
      "text/plain": [
       "['Harry', 'Ron', 'Hermione']"
      ]
     },
     "execution_count": 24,
     "metadata": {},
     "output_type": "execute_result"
    }
   ],
   "source": [
    "good()"
   ]
  },
  {
   "cell_type": "markdown",
   "id": "4f8e73b6-75fb-40c9-a56d-5229525bf23a",
   "metadata": {},
   "source": [
    "# 9. Generator Function and Indexing\n",
    "Define a generator function get_odds() that yields odd numbers from 0 to 9.\n",
    "Use a loop or generator handling to find and print the third odd number generated."
   ]
  },
  {
   "cell_type": "code",
   "execution_count": 27,
   "id": "496f8278-e238-4344-b0a7-4d5efd536cfe",
   "metadata": {},
   "outputs": [
    {
     "name": "stdout",
     "output_type": "stream",
     "text": [
      "The third odd number is: 5\n"
     ]
    }
   ],
   "source": [
    "def get_odds():\n",
    "    for num in range(0,10):\n",
    "        if num % 2 != 0:\n",
    "            yield num\n",
    "\n",
    "count = 0\n",
    "for odd in get_odds():\n",
    "    count += 1\n",
    "    if count == 3:\n",
    "        print(\"The third odd number is:\", odd)\n",
    "        break"
   ]
  },
  {
   "cell_type": "markdown",
   "id": "5202c4f7-d1eb-4df1-ba59-c90950700ede",
   "metadata": {},
   "source": [
    "# 10. Use zip() to Build a Dictionary\n",
    "Given:\n",
    "\n",
    "titles = ['Creature of Habit', 'Crewel Fate']\n",
    "\n",
    "plots = ['A nun turns into a monster', 'A haunted yarn shop']\n",
    "\n",
    "Use zip() to build and print a dictionary called movies that pairs each title with its plot."
   ]
  },
  {
   "cell_type": "code",
   "execution_count": 28,
   "id": "d505296d-e42c-4a69-ab98-c8e6b3e512bc",
   "metadata": {},
   "outputs": [
    {
     "data": {
      "text/plain": [
       "{'Creature of Habit': 'A nun turns into a monster',\n",
       " 'Crewel Fate': 'A haunted yarn shop'}"
      ]
     },
     "execution_count": 28,
     "metadata": {},
     "output_type": "execute_result"
    }
   ],
   "source": [
    "titles = ['Creature of Habit', 'Crewel Fate']\n",
    "plots = ['A nun turns into a monster', 'A haunted yarn shop']\n",
    "\n",
    "movies = dict(zip(titles, plots))\n",
    "movies"
   ]
  },
  {
   "cell_type": "code",
   "execution_count": null,
   "id": "2818c1bb-ee44-44f9-b8f6-8052c8e17d3c",
   "metadata": {},
   "outputs": [],
   "source": []
  }
 ],
 "metadata": {
  "kernelspec": {
   "display_name": "Python 3 (ipykernel)",
   "language": "python",
   "name": "python3"
  },
  "language_info": {
   "codemirror_mode": {
    "name": "ipython",
    "version": 3
   },
   "file_extension": ".py",
   "mimetype": "text/x-python",
   "name": "python",
   "nbconvert_exporter": "python",
   "pygments_lexer": "ipython3",
   "version": "3.12.8"
  }
 },
 "nbformat": 4,
 "nbformat_minor": 5
}
