{
 "cells": [
  {
   "cell_type": "markdown",
   "id": "10f0b63c-0864-4ac9-92b9-7eff549774b2",
   "metadata": {},
   "source": [
    "# Assignment Problems\n"
   ]
  },
  {
   "cell_type": "markdown",
   "id": "fa2ea2ea-62d1-4ae4-a069-15c9abbd5693",
   "metadata": {},
   "source": [
    "## Easy Level"
   ]
  },
  {
   "cell_type": "markdown",
   "id": "859d580d-248e-46a3-9deb-b6f7775c126e",
   "metadata": {},
   "source": [
    "#### 1. Odd or Even: Write a program that takes an integer input from the user and prints whether the number is odd or even."
   ]
  },
  {
   "cell_type": "code",
   "execution_count": 3,
   "id": "abfb0f50-8c9f-41c2-a5d2-1d830e92a00e",
   "metadata": {},
   "outputs": [
    {
     "name": "stdin",
     "output_type": "stream",
     "text": [
      "Enter a Number  78\n"
     ]
    },
    {
     "name": "stdout",
     "output_type": "stream",
     "text": [
      "78 is Even Number\n"
     ]
    }
   ],
   "source": [
    "n=int(input(\"Enter a Number \"))\n",
    "if n % 2 == 0:\n",
    "    print(n,\"is Even Number\")\n",
    "else:\n",
    "    print(n,\"is Odd Number\")"
   ]
  },
  {
   "cell_type": "markdown",
   "id": "64ddb33a-1f9f-47f1-be09-90a02a02bdb7",
   "metadata": {},
   "source": [
    "#### 2. Positive, Negative, or Zero: Create a program that checks if a number entered by the user is positive, negative, or zero and prints the result."
   ]
  },
  {
   "cell_type": "code",
   "execution_count": 4,
   "id": "880effde-2f95-46c5-8e2f-c4fc434ca625",
   "metadata": {},
   "outputs": [
    {
     "name": "stdin",
     "output_type": "stream",
     "text": [
      "Enter a Number 76\n"
     ]
    },
    {
     "name": "stdout",
     "output_type": "stream",
     "text": [
      "Positive\n"
     ]
    }
   ],
   "source": [
    "num=int(input(\"Enter a Number\"))\n",
    "if num == 0:\n",
    "    print(\"Zero\")\n",
    "elif num > 0:\n",
    "    print(\"Positive\")\n",
    "else:\n",
    "    print(\"Negative\")"
   ]
  },
  {
   "cell_type": "markdown",
   "id": "141654cd-fb80-40d6-860f-c26a4c304941",
   "metadata": {},
   "source": [
    "#### 3. Grade Evaluation: Write a program that takes a student's score (0-100) and prints the corresponding letter grade (A, B, C, D, F)."
   ]
  },
  {
   "cell_type": "code",
   "execution_count": 5,
   "id": "603cdc1d-d2b6-4b3c-bfbd-b5e53d85e95b",
   "metadata": {},
   "outputs": [
    {
     "name": "stdin",
     "output_type": "stream",
     "text": [
      "Enter your score: 87\n"
     ]
    },
    {
     "name": "stdout",
     "output_type": "stream",
     "text": [
      "B\n"
     ]
    }
   ],
   "source": [
    "score=int(input(\"Enter your score:\"))\n",
    "if score >= 90 and score <=100 :\n",
    "    print(\"A\")\n",
    "elif score >= 80 and score <= 89:\n",
    "    print(\"B\")\n",
    "elif score >= 70 and score <= 79:\n",
    "    print(\"C\")\n",
    "elif score >= 60 and score <=69:\n",
    "    print(\"D\")\n",
    "else:\n",
    "    print(\"F\")"
   ]
  },
  {
   "cell_type": "markdown",
   "id": "eb13f82d-5046-46ed-9bbf-dc03a017929c",
   "metadata": {},
   "source": [
    "#### 4. Age Check: Develop a program that asks for a user's age and determines if they are eligible to vote (age 18 or older)."
   ]
  },
  {
   "cell_type": "code",
   "execution_count": 9,
   "id": "de1ab165-2c4a-456e-ab5b-926088d30cae",
   "metadata": {},
   "outputs": [
    {
     "name": "stdin",
     "output_type": "stream",
     "text": [
      "Enter your Age : 21\n"
     ]
    },
    {
     "name": "stdout",
     "output_type": "stream",
     "text": [
      "you are eligible for vote\n"
     ]
    }
   ],
   "source": [
    "age = int(input(\"Enter your Age :\"))\n",
    "if age>=18:\n",
    "    print(\"you are eligible for vote\")\n",
    "else:\n",
    "    print(\"you are not eligible for vote\")"
   ]
  },
  {
   "cell_type": "markdown",
   "id": "951638aa-5ea2-482f-a26a-dceb5101eb4d",
   "metadata": {},
   "source": [
    "#### 5. Temperature Check: Write a program that takes a temperature in Celsius and prints whether it is \"Freezing\", \"Cold\", \"Warm\", or \"Hot\" based on predefined ranges."
   ]
  },
  {
   "cell_type": "code",
   "execution_count": 16,
   "id": "45576c42-e3e2-48a0-9385-ce050f98d079",
   "metadata": {},
   "outputs": [
    {
     "name": "stdin",
     "output_type": "stream",
     "text": [
      "Enter temperature in celsius: 40\n"
     ]
    },
    {
     "name": "stdout",
     "output_type": "stream",
     "text": [
      "Hot\n"
     ]
    }
   ],
   "source": [
    "temp_celsius = float(input(\"Enter temperature in celsius:\"))\n",
    "if temp_celsius <= 0:\n",
    "    print(\"Freezing\")\n",
    "elif 1 <= temp_celsius <= 10:\n",
    "    print(\"Cold\")\n",
    "elif 11 <= temp_celsius <= 25:\n",
    "    print(\"Warm\")\n",
    "else:\n",
    "    print(\"Hot\")"
   ]
  },
  {
   "cell_type": "markdown",
   "id": "4a7857a2-d6c5-4726-b99f-78cd7df63434",
   "metadata": {},
   "source": [
    "#### 6. Divisibility Check: Create a program that checks if a number is divisible by 3 and/or 5 and prints appropriate messages."
   ]
  },
  {
   "cell_type": "code",
   "execution_count": 44,
   "id": "fb4559cb-b8fe-4866-bfea-0d7c95dc0a61",
   "metadata": {},
   "outputs": [
    {
     "name": "stdin",
     "output_type": "stream",
     "text": [
      "Enter a Number: 50\n"
     ]
    },
    {
     "name": "stdout",
     "output_type": "stream",
     "text": [
      "5\n"
     ]
    }
   ],
   "source": [
    "n=int(input(\"Enter a Number:\"))\n",
    "if n%3 ==0 and n%5 ==0:\n",
    "    print(\"3 and 5\")\n",
    "elif n%3==0:\n",
    "    print(3)\n",
    "elif n%5==0:\n",
    "    print(5)\n",
    "else:\n",
    "    print(\"Number is not divisible by 3 and 5\")"
   ]
  },
  {
   "cell_type": "markdown",
   "id": "43c61dd2-2894-49da-87f8-db19958408f9",
   "metadata": {},
   "source": [
    "#### 7. Leap Year Checker: Write a program that determines if a given year is a leap year or not."
   ]
  },
  {
   "cell_type": "code",
   "execution_count": 46,
   "id": "d5650e1e-ddf0-439e-a426-29cde8d5f0b1",
   "metadata": {},
   "outputs": [
    {
     "name": "stdin",
     "output_type": "stream",
     "text": [
      "Enter a year : 2024\n"
     ]
    },
    {
     "name": "stdout",
     "output_type": "stream",
     "text": [
      "2024 is leap year\n"
     ]
    }
   ],
   "source": [
    "year=int(input(\"Enter a year :\"))\n",
    "if year % 400==0:\n",
    "    print(year,\"is leap year\")\n",
    "elif year % 4 == 0 and year % 100 != 0:\n",
    "    print(year,\"is leap year\")\n",
    "else:\n",
    "    print(year,\"is not leap year\")"
   ]
  },
  {
   "cell_type": "markdown",
   "id": "2d1f35ec-d687-4b41-8a66-0dde84168263",
   "metadata": {},
   "source": [
    "#### 8. Simple Calculator: Create a basic calculator that takes two numbers and an operator (+, -, *, /) from the user and performs the operation, handling division by zero appropriately."
   ]
  },
  {
   "cell_type": "code",
   "execution_count": 17,
   "id": "cc5aaed3-bbb1-4a3c-af6e-930d1bd030f4",
   "metadata": {},
   "outputs": [
    {
     "name": "stdin",
     "output_type": "stream",
     "text": [
      "Enter first Number: 2\n",
      "Enter second Number: 3\n",
      "Enter the operator (+, -, *, /):  +\n"
     ]
    },
    {
     "name": "stdout",
     "output_type": "stream",
     "text": [
      "5\n"
     ]
    }
   ],
   "source": [
    "num1=int(input(\"Enter first Number:\"))\n",
    "num2=int(input(\"Enter second Number:\"))\n",
    "operator = input(\"Enter the operator (+, -, *, /): \")\n",
    "if operator == \"+\":\n",
    "    print(num1+num2)\n",
    "elif operator == \"-\":\n",
    "    print(num1-num2)\n",
    "elif operator == \"*\":\n",
    "    print(num1*num2)\n",
    "elif operator == \"/\":\n",
    "    if num2 == 0:\n",
    "        print(\"Error! Division by zero is not allowed.\")\n",
    "    print(num1/num2)\n",
    "else:\n",
    "    print(\"Invalid operator! Please use +, -, *, /.\")"
   ]
  },
  {
   "cell_type": "markdown",
   "id": "4aef6570-9ac7-45b2-9176-bf4f72026481",
   "metadata": {},
   "source": [
    "## Medium Level"
   ]
  },
  {
   "cell_type": "markdown",
   "id": "acfdea13-6458-465c-9da2-c1d037991132",
   "metadata": {},
   "source": [
    "#### 1. BMI Calculator: Write a program that calculates the Body Mass Index (BMI) based on user-provided weight and height, then categorizes it as Underweight, Normal weight, Overweight, or Obesity."
   ]
  },
  {
   "cell_type": "code",
   "execution_count": 8,
   "id": "d7eb2ae9-d391-410a-883b-e19b5eece7ac",
   "metadata": {},
   "outputs": [
    {
     "name": "stdin",
     "output_type": "stream",
     "text": [
      "Enter your weight in kg:  50\n",
      "Enter your height in meters:  155\n"
     ]
    },
    {
     "name": "stdout",
     "output_type": "stream",
     "text": [
      "0.002081165452653486\n",
      "Underweight\n"
     ]
    }
   ],
   "source": [
    "weight = float(input(\"Enter your weight in kg: \"))\n",
    "height = float(input(\"Enter your height in meters: \"))\n",
    "bmi = weight / (height ** 2)\n",
    "print(bmi)\n",
    "if bmi < 18.5:\n",
    "    print(\"Underweight\")\n",
    "elif 18.5 <= bmi < 24.9:\n",
    "    print(\"Normal weight\")\n",
    "elif 25 <= bmi < 29.9:\n",
    "    print(\"Overweight\")\n",
    "else:\n",
    "    print(\"Obesity\")"
   ]
  },
  {
   "cell_type": "markdown",
   "id": "1de10766-98df-4731-a1f7-d1923eb062ab",
   "metadata": {},
   "source": [
    "#### 2. Discount Calculator: Create a program that calculates the final price of an item based on its original price and applies discounts based on predefined conditions (e.g., 10% off for prices over $100)."
   ]
  },
  {
   "cell_type": "code",
   "execution_count": 15,
   "id": "a9d7a620-cdfd-48ec-94e7-a1aafa27e869",
   "metadata": {},
   "outputs": [
    {
     "name": "stdin",
     "output_type": "stream",
     "text": [
      "Enter Original price : $ 1000\n"
     ]
    },
    {
     "name": "stdout",
     "output_type": "stream",
     "text": [
      "The final price after any applicable discounts is: $900.00\n"
     ]
    }
   ],
   "source": [
    "original_price=int(input(\"Enter Original price : $\"))\n",
    "discount_price= original_price\n",
    "if original_price > 100:\n",
    "    discount_price *= 0.90 # Apply a 10% discount\n",
    "print(f\"The final price after any applicable discounts is: ${discount_price:.2f}\")"
   ]
  },
  {
   "cell_type": "markdown",
   "id": "0e104636-b4a1-47ac-b1ee-dc6a3f204047",
   "metadata": {},
   "source": [
    "#### 3. Grade Classification: Extend the grade evaluation problem to classify grades into categories (e.g., \"Excellent\", \"Good\", \"Average\", \"Poor\") based on score ranges."
   ]
  },
  {
   "cell_type": "code",
   "execution_count": 1,
   "id": "06e72437-2b5f-4b05-a4ae-9fd880e3c31f",
   "metadata": {},
   "outputs": [
    {
     "name": "stdin",
     "output_type": "stream",
     "text": [
      "Enter your score : 83.67\n"
     ]
    },
    {
     "name": "stdout",
     "output_type": "stream",
     "text": [
      "Good\n"
     ]
    }
   ],
   "source": [
    "score=float(input(\"Enter your score :\"))\n",
    "if score >= 90:\n",
    "    print(\"Excellent\")\n",
    "elif score >= 75:\n",
    "    print(\"Good\")\n",
    "elif score >= 50:\n",
    "    print(\"Average\")\n",
    "else:\n",
    "    print(\"Poor\")"
   ]
  },
  {
   "cell_type": "markdown",
   "id": "d90a139a-5f83-4d2d-9a08-0b512d49079e",
   "metadata": {},
   "source": [
    "#### 4. Password Strength Checker: Write a program that checks if a password is strong based on conditions such as length, presence of digits, uppercase letters, and special characters."
   ]
  },
  {
   "cell_type": "code",
   "execution_count": 3,
   "id": "d25e5269-5b0a-4a71-ae46-650df86ebf00",
   "metadata": {},
   "outputs": [
    {
     "name": "stdin",
     "output_type": "stream",
     "text": [
      "Enter a password:  Pass@12345\n"
     ]
    },
    {
     "name": "stdout",
     "output_type": "stream",
     "text": [
      "Password is weak. It should be at least 8 characters long, contain a digit, an uppercase letter, and a special character.\n"
     ]
    }
   ],
   "source": [
    "import re\n",
    "password = input(\"Enter a password: \")\n",
    "length_condition = len(password) >= 8\n",
    "digit_condition = re.search(r'\\\\d', password) is not None\n",
    "upper_condition = re.search(r'[A-Z]', password) is not None\n",
    "special_condition = re.search(r'[@$!%*?&]', password) is not None\n",
    "if length_condition and digit_condition and upper_condition and special_condition:\n",
    "    print(\"Password is strong.\")\n",
    "else:\n",
    "    print(\"Password is weak. It should be at least 8 characters long, contain a digit, an uppercase letter, and a special character.\")"
   ]
  },
  {
   "cell_type": "markdown",
   "id": "66a6d4f0-adf6-486c-af04-a762721170f8",
   "metadata": {},
   "source": [
    "#### 5. Traffic Light Simulation: Create a program that simulates traffic light behavior where it takes input for the light color (red, yellow, green) and outputs what vehicles should do."
   ]
  },
  {
   "cell_type": "code",
   "execution_count": 9,
   "id": "389dbd85-7d3e-47dd-820b-3e9afb86b65b",
   "metadata": {},
   "outputs": [
    {
     "name": "stdin",
     "output_type": "stream",
     "text": [
      "Enter the traffic light color (red, yellow, green): Green\n"
     ]
    },
    {
     "name": "stdout",
     "output_type": "stream",
     "text": [
      "Go\n"
     ]
    }
   ],
   "source": [
    "color=input(\"Enter the traffic light color (red, yellow, green):\")\n",
    "if color.lower() == \"red\" :\n",
    "    print(\"Stop\")\n",
    "elif color.lower() == \"green\":\n",
    "    print(\"Go\")\n",
    "elif color.lower() == \"yellow\":\n",
    "    print(\"Prepare to stop\")\n",
    "else:\n",
    "    print(\"Invalid color\")"
   ]
  },
  {
   "cell_type": "markdown",
   "id": "7af7a637-cf07-455f-a5bd-e30042db1880",
   "metadata": {},
   "source": [
    "#### 6. Simple Interest Calculator: Develop a program that calculates simple interest given principal amount, rate of interest, and time period while checking for valid input values."
   ]
  },
  {
   "cell_type": "code",
   "execution_count": 22,
   "id": "1506888a-330d-46a4-ac19-295dc0f9e2b9",
   "metadata": {},
   "outputs": [
    {
     "name": "stdin",
     "output_type": "stream",
     "text": [
      "Enter principal amount: $ 100\n",
      "Enter rate of interest:  3\n",
      "Enter time in years:  2\n"
     ]
    },
    {
     "name": "stdout",
     "output_type": "stream",
     "text": [
      "Simple Interest: $6.00\n"
     ]
    }
   ],
   "source": [
    "principal = float(input(\"Enter principal amount: $\"))\n",
    "rate = float(input(\"Enter rate of interest: \"))\n",
    "time = float(input(\"Enter time in years: \"))\n",
    "interest= (principal * rate * time) / 100\n",
    "if principal > 0 and rate > 0 and time > 0:\n",
    "    interest\n",
    "    print(f\"Simple Interest: ${interest:.2f}\")\n",
    "else:\n",
    "    print(\"Please enter valid positive values for principal, rate, and time.\")"
   ]
  },
  {
   "cell_type": "markdown",
   "id": "a0f917a2-1d93-40ee-bdda-5b3d94c5e028",
   "metadata": {},
   "source": [
    "#### 7. Number Range Checker: Write a program that checks if an input number falls within a specified range (e.g., 1 to 100) and prints different messages based on where it falls."
   ]
  },
  {
   "cell_type": "code",
   "execution_count": 2,
   "id": "3bef4368-436e-4556-b177-9752fe834377",
   "metadata": {},
   "outputs": [
    {
     "name": "stdin",
     "output_type": "stream",
     "text": [
      "Enter a number : 77\n"
     ]
    },
    {
     "name": "stdout",
     "output_type": "stream",
     "text": [
      "Number is 1 to 100\n"
     ]
    }
   ],
   "source": [
    "num=int(input(\"Enter a number :\"))\n",
    "if num < 1:\n",
    "    print(\"Number is less than 1\")\n",
    "elif num <= 100:\n",
    "    print(\"Number is 1 to 100\")\n",
    "else:\n",
    "    print(\"Number is greater than 100\")"
   ]
  },
  {
   "cell_type": "markdown",
   "id": "5b32367c-b3c5-4f99-a536-c5cbb2922274",
   "metadata": {},
   "source": [
    "#### 8. Even Number Counter: Create a program that counts how many even numbers are in a list of user-inputted numbers until the user enters -1 to stop."
   ]
  },
  {
   "cell_type": "code",
   "execution_count": 1,
   "id": "ff65f90f-eb26-4a84-aab4-920139b09eed",
   "metadata": {},
   "outputs": [
    {
     "name": "stdin",
     "output_type": "stream",
     "text": [
      "Enter a number (-1 to stop):  77\n",
      "Enter a number (-1 to stop):  76\n",
      "Enter a number (-1 to stop):  27\n",
      "Enter a number (-1 to stop):  2836\n",
      "Enter a number (-1 to stop):  33\n",
      "Enter a number (-1 to stop):  3\n",
      "Enter a number (-1 to stop):  22\n",
      "Enter a number (-1 to stop):  -1\n"
     ]
    },
    {
     "name": "stdout",
     "output_type": "stream",
     "text": [
      "You entered 3 even numbers.\n"
     ]
    }
   ],
   "source": [
    "count_even_numbers = 0\n",
    "while True:\n",
    "    number = int(input(\"Enter a number (-1 to stop): \"))\n",
    "    if number == -1:\n",
    "        break\n",
    "    if number % 2 == 0:\n",
    "        count_even_numbers += 1\n",
    "print(f\"You entered {count_even_numbers} even numbers.\")"
   ]
  },
  {
   "cell_type": "markdown",
   "id": "ec15b11c-6730-45d5-a40f-c89f575aa90d",
   "metadata": {},
   "source": [
    "#### 9. Rock-Paper-Scissors Game: Implement a simple rock-paper-scissors game where the user plays against the computer, determining the winner based on inputs."
   ]
  },
  {
   "cell_type": "code",
   "execution_count": 7,
   "id": "6483b12f-9c3e-4b07-815d-daa7bf7f04cc",
   "metadata": {},
   "outputs": [
    {
     "name": "stdin",
     "output_type": "stream",
     "text": [
      "Choose rock, paper or scissors:  paper\n"
     ]
    },
    {
     "name": "stdout",
     "output_type": "stream",
     "text": [
      "Computer chose: paper\n",
      "It's a tie!\n"
     ]
    }
   ],
   "source": [
    "import random\n",
    "choices = ['rock', 'paper', 'scissors']\n",
    "user_choice = input(\"Choose rock, paper or scissors: \").lower()\n",
    "computer_choice = random.choice(choices)\n",
    "print(f\"Computer chose: {computer_choice}\")\n",
    "if user_choice == computer_choice:\n",
    "    print(\"It's a tie!\")\n",
    "elif (user_choice == 'rock' and computer_choice == 'scissors') or (user_choice == 'paper' and computer_choice == 'rock') or (user_choice == 'scissors' and computer_choice == 'paper'):\n",
    "    print(\"You win!\")\n",
    "else:\n",
    "    print(\"You lose!\")"
   ]
  },
  {
   "cell_type": "markdown",
   "id": "3d1ac106-4dc7-4c1c-8740-7dcb9e49bb90",
   "metadata": {},
   "source": [
    "#### 10. Month Days Checker: Write a program that asks for a month number (1-12) and returns how many days are in that month, considering leap years for February."
   ]
  },
  {
   "cell_type": "code",
   "execution_count": 10,
   "id": "bf0c4d4d-d18a-458c-9ada-6db3f8df3a7f",
   "metadata": {},
   "outputs": [
    {
     "name": "stdin",
     "output_type": "stream",
     "text": [
      "Enter month number (1-12):  9\n"
     ]
    },
    {
     "name": "stdout",
     "output_type": "stream",
     "text": [
      "Month 9 has 30 days.\n"
     ]
    }
   ],
   "source": [
    "month_number = int(input(\"Enter month number (1-12): \"))\n",
    "if month_number in [1, 3, 5, 7, 8, 10, 12]:\n",
    "    days = 31\n",
    "elif month_number in [4, 6, 9, 11]:\n",
    "    days = 30\n",
    "elif month_number == 2:\n",
    "    year = int(input(\"Enter year: \"))\n",
    "    if (year % 4 == 0 and year % 100 != 0) or (year % 400 == 0):\n",
    "        days = 29\n",
    "    else:\n",
    "        days = 28\n",
    "else:\n",
    "    days = None\n",
    "if days is not None:\n",
    "    print(f\"Month {month_number} has {days} days.\")\n",
    "else:\n",
    "    print(\"Invalid month number!\")"
   ]
  },
  {
   "cell_type": "markdown",
   "id": "d455002a-dc73-40c6-a1ec-f74dbe31c31b",
   "metadata": {},
   "source": [
    "#### 11. Grade Point Average (GPA) Calculator: Create a program that calculates GPA based on letter grades entered by the user and converts them into grade points using standard values."
   ]
  },
  {
   "cell_type": "code",
   "execution_count": 18,
   "id": "31ec0db3-ed79-4ebd-aa33-59f4903d4dff",
   "metadata": {},
   "outputs": [
    {
     "name": "stdin",
     "output_type": "stream",
     "text": [
      "Enter letter grades separated by spaces (A B C D F):  A\n"
     ]
    },
    {
     "name": "stdout",
     "output_type": "stream",
     "text": [
      "Your GPA is: 4.00\n"
     ]
    }
   ],
   "source": [
    "grades_input = input(\"Enter letter grades separated by spaces (A B C D F): \")\n",
    "grades_list = grades_input.split()\n",
    "grade_points_mapping = {'A': 4.0, 'B': 3.0, 'C': 2.0, 'D': 1.0, 'F': 0.0}\n",
    "total_points = sum(grade_points_mapping[grade] for grade in grades_list if grade in grade_points_mapping)\n",
    "gpa = total_points / len(grades_list)\n",
    "print(f\"Your GPA is: {gpa:.2f}\")"
   ]
  },
  {
   "cell_type": "markdown",
   "id": "48d24b29-2f86-4ee5-b7a1-a7a5fe8ad018",
   "metadata": {},
   "source": [
    "#### 12. Simple Voting System: Develop a voting system where users can vote for one of three candidates; ensure each user can only vote once by checking against previous votes stored in a list."
   ]
  },
  {
   "cell_type": "code",
   "execution_count": 20,
   "id": "e3f86af2-063a-45a4-8d56-35dac4448470",
   "metadata": {},
   "outputs": [
    {
     "name": "stdin",
     "output_type": "stream",
     "text": [
      "Vote for candidate A, B or C (-1 to stop):  a\n"
     ]
    },
    {
     "name": "stdout",
     "output_type": "stream",
     "text": [
      "Vote recorded for candidate A.\n"
     ]
    },
    {
     "name": "stdin",
     "output_type": "stream",
     "text": [
      "Vote for candidate A, B or C (-1 to stop):  b\n"
     ]
    },
    {
     "name": "stdout",
     "output_type": "stream",
     "text": [
      "Vote recorded for candidate B.\n"
     ]
    },
    {
     "name": "stdin",
     "output_type": "stream",
     "text": [
      "Vote for candidate A, B or C (-1 to stop):  c\n"
     ]
    },
    {
     "name": "stdout",
     "output_type": "stream",
     "text": [
      "Vote recorded for candidate C.\n"
     ]
    },
    {
     "name": "stdin",
     "output_type": "stream",
     "text": [
      "Vote for candidate A, B or C (-1 to stop):  -1\n"
     ]
    },
    {
     "name": "stdout",
     "output_type": "stream",
     "text": [
      "Final results:\\nCandidate A: 1\\nCandidate B: 1\\nCandidate C: 1\n"
     ]
    }
   ],
   "source": [
    "votes = []\n",
    "while True:\n",
    "    vote = input(\"Vote for candidate A, B or C (-1 to stop): \").upper()\n",
    "    if vote == '-1':\n",
    "        break\n",
    "    if vote in ['A', 'B', 'C']:\n",
    "        votes.append(vote)\n",
    "        print(f\"Vote recorded for candidate {vote}.\")\n",
    "    else:\n",
    "        print(\"Invalid vote! Please vote for A, B or C.\")\n",
    "# Count votes\n",
    "vote_count_A = votes.count('A')\n",
    "vote_count_B = votes.count('B')\n",
    "vote_count_C = votes.count('C')\n",
    "print(f\"Final results:\\\\nCandidate A: {vote_count_A}\\\\nCandidate B: {vote_count_B}\\\\nCandidate C: {vote_count_C}\")"
   ]
  },
  {
   "cell_type": "code",
   "execution_count": null,
   "id": "65e58d72-e375-4798-a043-a9e74f0dc075",
   "metadata": {},
   "outputs": [],
   "source": []
  }
 ],
 "metadata": {
  "kernelspec": {
   "display_name": "Python 3 (ipykernel)",
   "language": "python",
   "name": "python3"
  },
  "language_info": {
   "codemirror_mode": {
    "name": "ipython",
    "version": 3
   },
   "file_extension": ".py",
   "mimetype": "text/x-python",
   "name": "python",
   "nbconvert_exporter": "python",
   "pygments_lexer": "ipython3",
   "version": "3.12.6"
  }
 },
 "nbformat": 4,
 "nbformat_minor": 5
}
