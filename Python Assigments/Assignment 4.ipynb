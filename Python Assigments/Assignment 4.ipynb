{
 "cells": [
  {
   "cell_type": "markdown",
   "id": "795b8b51-75a9-4812-88f8-9be6f89bc875",
   "metadata": {},
   "source": [
    "# Question 1:\n",
    "\n",
    "Write a Python program that checks if a number entered by the user is even\n",
    "or odd. Print \"Even\" if the number is even and \"Odd\" if it is odd."
   ]
  },
  {
   "cell_type": "code",
   "execution_count": 1,
   "id": "f942e366-0a9e-4571-9987-877b489509d1",
   "metadata": {},
   "outputs": [
    {
     "name": "stdin",
     "output_type": "stream",
     "text": [
      "Enter a Number  76\n"
     ]
    },
    {
     "name": "stdout",
     "output_type": "stream",
     "text": [
      "Even\n"
     ]
    }
   ],
   "source": [
    "n=int(input(\"Enter a Number \"))\n",
    "if n % 2 == 0:\n",
    "    print(\"Even\")\n",
    "else:\n",
    "    print(\"Odd\")\n",
    "    "
   ]
  },
  {
   "cell_type": "markdown",
   "id": "451ddc15-3c9e-4d12-ad84-f5d157201104",
   "metadata": {},
   "source": [
    "# Question 2:\n",
    "\n",
    "Create a program that prompts the user for their age and prints whether\n",
    "they are a child (0-12), teenager (13-19), or adult (20 and above)."
   ]
  },
  {
   "cell_type": "code",
   "execution_count": 11,
   "id": "1a8e7ec7-d9e9-498a-ac32-9b7b806b8bb0",
   "metadata": {},
   "outputs": [
    {
     "name": "stdin",
     "output_type": "stream",
     "text": [
      "Enter your Age: 21\n"
     ]
    },
    {
     "name": "stdout",
     "output_type": "stream",
     "text": [
      "Adult\n"
     ]
    }
   ],
   "source": [
    "age=int(input(\"Enter your Age:\"))\n",
    "if age<=12:\n",
    "    print(\"Child\")\n",
    "elif age<=19:\n",
    "    print(\"Teenager\")\n",
    "else:\n",
    "    print(\"Adult\")"
   ]
  },
  {
   "cell_type": "markdown",
   "id": "2c25cd19-d49f-4269-aea2-b8a1993fd7f3",
   "metadata": {},
   "source": [
    "# Question 3:\n",
    "\n",
    "Write a program that takes two numbers as input from the user and prints\n",
    "which number is larger. If both numbers are equal, print \"Both numbers are\n",
    "equal.\""
   ]
  },
  {
   "cell_type": "code",
   "execution_count": 2,
   "id": "f1fd667d-563b-43bd-8c65-98bf48280e47",
   "metadata": {},
   "outputs": [
    {
     "name": "stdin",
     "output_type": "stream",
     "text": [
      "Enter first Number: 7\n",
      "Enter second Number: 7\n"
     ]
    },
    {
     "name": "stdout",
     "output_type": "stream",
     "text": [
      "Both Numbers are equal 7 and 7\n"
     ]
    }
   ],
   "source": [
    "num1=int(input(\"Enter first Number:\"))\n",
    "num2=int(input(\"Enter second Number:\"))\n",
    "if num1>num2:\n",
    "    print(num1,\"is large Number \") \n",
    "elif num2>num1:\n",
    "    print(num2,\"is large Number\") \n",
    "else:\n",
    "    print(\"Both Numbers are equal\",num1,\"and\",num2)\n",
    "    "
   ]
  },
  {
   "cell_type": "markdown",
   "id": "1f88fd93-056f-496c-ba27-d7267ae4d806",
   "metadata": {},
   "source": [
    "# Question 4:\n",
    "\n",
    "Create a program that checks if a user-entered password matches the\n",
    "string \"securePassword\". Print \"Access Granted\" if it matches, otherwise\n",
    "print \"Access Denied.\""
   ]
  },
  {
   "cell_type": "code",
   "execution_count": 3,
   "id": "d34aea55-a70c-48e8-9e73-5b07aeb68260",
   "metadata": {},
   "outputs": [
    {
     "name": "stdin",
     "output_type": "stream",
     "text": [
      "Enter your password :  securePassword\n"
     ]
    },
    {
     "name": "stdout",
     "output_type": "stream",
     "text": [
      "Access Granted\n"
     ]
    }
   ],
   "source": [
    "Pass=\"securePassword\"\n",
    "pass_user=input(\"Enter your password : \")\n",
    "if Pass == pass_user:\n",
    "    print(\"Access Granted\")\n",
    "else:\n",
    "    print(\"Access Denied.\")\n",
    "    "
   ]
  },
  {
   "cell_type": "markdown",
   "id": "0493b6bd-472a-4a74-bfa8-0e588ca82ce0",
   "metadata": {},
   "source": [
    "# Question 5:\n",
    "\n",
    "Write a program that takes a score from the user (0-100) and prints the\n",
    "corresponding grade:\n",
    "\n",
    "A for 90-100,\n",
    "B for 80-89,\n",
    "C for 70-79,\n",
    "D for 60-69,\n",
    "F for below 60"
   ]
  },
  {
   "cell_type": "code",
   "execution_count": 4,
   "id": "ae471692-2977-48fb-8cb7-bfe6d6bae828",
   "metadata": {},
   "outputs": [
    {
     "name": "stdin",
     "output_type": "stream",
     "text": [
      "Enter your score: 77\n"
     ]
    },
    {
     "name": "stdout",
     "output_type": "stream",
     "text": [
      "C\n"
     ]
    }
   ],
   "source": [
    "score=int(input(\"Enter your score:\"))\n",
    "if score >= 90 and score <=100 :\n",
    "    print(\"A\")\n",
    "elif score >= 80 and score <= 89:\n",
    "    print(\"B\")\n",
    "elif score >= 70 and score <= 79:\n",
    "    print(\"C\")\n",
    "elif score >= 60 and score <=69:\n",
    "    print(\"D\")\n",
    "else:\n",
    "    print(\"F\")\n",
    "    "
   ]
  },
  {
   "cell_type": "markdown",
   "id": "47439498-0a65-4e9e-becd-a2c220390f48",
   "metadata": {},
   "source": [
    "# Question 6:\n",
    "\n",
    "Create a program that asks the user for a number and checks if it is\n",
    "positive, negative, or zero. Print the corresponding message."
   ]
  },
  {
   "cell_type": "code",
   "execution_count": 22,
   "id": "0699164e-6b90-475d-890b-459daa560b2d",
   "metadata": {},
   "outputs": [
    {
     "name": "stdin",
     "output_type": "stream",
     "text": [
      "Enter a Number 7\n"
     ]
    },
    {
     "name": "stdout",
     "output_type": "stream",
     "text": [
      "Positive\n"
     ]
    }
   ],
   "source": [
    "num=int(input(\"Enter a Number\"))\n",
    "if num == 0:\n",
    "    print(\"Zero\")\n",
    "elif num >= 0:\n",
    "    print(\"Positive\")\n",
    "else:\n",
    "    print(\"Negative\")"
   ]
  },
  {
   "cell_type": "markdown",
   "id": "cd603b2f-63dc-4674-8205-1891cc7808e4",
   "metadata": {},
   "source": [
    "# Question 7:\n",
    "\n",
    "\n",
    "Write a program that takes three numbers from the user and determines the\n",
    "largest of the three. Print the largest number."
   ]
  },
  {
   "cell_type": "code",
   "execution_count": 6,
   "id": "7e1ae399-2bde-4f0a-b1b2-28b8ee349631",
   "metadata": {},
   "outputs": [
    {
     "name": "stdin",
     "output_type": "stream",
     "text": [
      "Enter First Number : 56\n",
      "Enter Second Number : 66\n",
      "Enter Third Number : 77\n"
     ]
    },
    {
     "name": "stdout",
     "output_type": "stream",
     "text": [
      "largest Number 77\n"
     ]
    }
   ],
   "source": [
    "num1=int(input(\"Enter First Number :\"))\n",
    "num2=int(input(\"Enter Second Number :\"))\n",
    "num3=int(input(\"Enter Third Number :\"))\n",
    "if num1 > num2 and num1 > num3:\n",
    "    print(\"largest Number\",num1)\n",
    "elif num2 > num3 and num2 > num1:\n",
    "    print(\"largest Number\",num2)\n",
    "elif num3 > num2 and num3 > num1:  \n",
    "    print(\"largest Number\",num3)"
   ]
  },
  {
   "cell_type": "markdown",
   "id": "ac4eebc1-daf7-4fd2-8370-54c2fe3c40cc",
   "metadata": {},
   "source": [
    "# Question 8:\n",
    "\n",
    "Create a program that checks if a user-entered character is a vowel (a, e, i,\n",
    "o, u) or a consonant. Print the corresponding message."
   ]
  },
  {
   "cell_type": "code",
   "execution_count": 8,
   "id": "ef882fc7-dc42-4181-8c4a-0909f5fe469c",
   "metadata": {},
   "outputs": [
    {
     "name": "stdin",
     "output_type": "stream",
     "text": [
      "Enter a Character : G\n"
     ]
    },
    {
     "name": "stdout",
     "output_type": "stream",
     "text": [
      "Consonant\n"
     ]
    }
   ],
   "source": [
    "char=input(\"Enter a Character :\")\n",
    "if char.lower() == \"a\" or char.lower() == \"e\" or char.lower() == \"i\" or char.lower() == \"o\" or char.lower() == \"u\":\n",
    "    print(\"Vowel\")\n",
    "else:\n",
    "    print(\"Consonant\")\n"
   ]
  },
  {
   "cell_type": "markdown",
   "id": "bc9594d7-8567-4ccb-82b4-5fc09e85116a",
   "metadata": {},
   "source": [
    "# Question 9:\n",
    "\n",
    "Write a program that checks if a given year is a leap year. A year is a leap\n",
    "year if it is divisible by 4, except for years that are divisible by 100 but not\n",
    "divisible by 400."
   ]
  },
  {
   "cell_type": "code",
   "execution_count": 36,
   "id": "1a38258e-8226-46f6-bf6b-42adb78398fb",
   "metadata": {},
   "outputs": [
    {
     "name": "stdin",
     "output_type": "stream",
     "text": [
      "Enter a year : 2024\n"
     ]
    },
    {
     "name": "stdout",
     "output_type": "stream",
     "text": [
      "2024 is leap year\n"
     ]
    }
   ],
   "source": [
    "year=int(input(\"Enter a year :\"))\n",
    "if year % 400==0:\n",
    "    print(year,\"is leap year\")\n",
    "elif year % 4 == 0 and year % 100 != 0:\n",
    "    print(year,\"is leap year\")\n",
    "else:\n",
    "    print(year,\"is not leap year\")"
   ]
  },
  {
   "cell_type": "markdown",
   "id": "45f8d031-0f16-4b0b-9b1a-99cf09aacf8b",
   "metadata": {},
   "source": [
    "# Question 10:\n",
    "\n",
    "Create a program that prompts the user for a temperature in Celsius and\n",
    "converts it to Fahrenheit. If the converted temperature is greater than 100°F,\n",
    "print \"It's boiling!\" Otherwise, print \"It's not boiling yet.\""
   ]
  },
  {
   "cell_type": "code",
   "execution_count": 1,
   "id": "083e5761-1a4f-4c90-849f-3922dfd257eb",
   "metadata": {},
   "outputs": [
    {
     "name": "stdin",
     "output_type": "stream",
     "text": [
      "Enter temperature in celsius : 25\n"
     ]
    },
    {
     "name": "stdout",
     "output_type": "stream",
     "text": [
      "It's not boiling yet.\n"
     ]
    }
   ],
   "source": [
    "celsius=float(input(\"Enter temperature in celsius :\"))\n",
    "f= celsius * 9/5 + 32\n",
    "if f > 100:\n",
    "    print(\"It's boiling!\")\n",
    "else:\n",
    "    print(\"It's not boiling yet.\")\n",
    "    "
   ]
  },
  {
   "cell_type": "code",
   "execution_count": null,
   "id": "30759608-248b-463d-b982-089e75d61fe8",
   "metadata": {},
   "outputs": [],
   "source": []
  }
 ],
 "metadata": {
  "kernelspec": {
   "display_name": "Python 3 (ipykernel)",
   "language": "python",
   "name": "python3"
  },
  "language_info": {
   "codemirror_mode": {
    "name": "ipython",
    "version": 3
   },
   "file_extension": ".py",
   "mimetype": "text/x-python",
   "name": "python",
   "nbconvert_exporter": "python",
   "pygments_lexer": "ipython3",
   "version": "3.12.6"
  }
 },
 "nbformat": 4,
 "nbformat_minor": 5
}
