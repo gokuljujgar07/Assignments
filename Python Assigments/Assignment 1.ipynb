{
 "cells": [
  {
   "cell_type": "markdown",
   "id": "a7c1076e-d332-4182-a43e-4b40fea6d082",
   "metadata": {},
   "source": [
    "## Question 1:\n",
    " \n",
    "Write a Python program to print your name and favourite colour on two\n",
    "separate lines."
   ]
  },
  {
   "cell_type": "code",
   "execution_count": 1,
   "id": "ef8aad66-0d4f-455b-ba12-f45a1df6346f",
   "metadata": {},
   "outputs": [
    {
     "name": "stdout",
     "output_type": "stream",
     "text": [
      "Gokul Jujgar\n",
      "Black\n"
     ]
    }
   ],
   "source": [
    "print(\"Gokul Jujgar\")\n",
    "print(\"Black\")\n"
   ]
  },
  {
   "cell_type": "markdown",
   "id": "173491ba-3733-4b20-97dd-c5ce9372d543",
   "metadata": {},
   "source": [
    "## Question 2:\n",
    "\n",
    "Write a Python program that prints the result of adding 7 and 8."
   ]
  },
  {
   "cell_type": "code",
   "execution_count": 2,
   "id": "6e4b2b17-6500-4d83-9ab0-b20fd4ac916d",
   "metadata": {},
   "outputs": [
    {
     "name": "stdout",
     "output_type": "stream",
     "text": [
      "15\n"
     ]
    }
   ],
   "source": [
    "print(7+8)"
   ]
  },
  {
   "cell_type": "markdown",
   "id": "840d4833-9665-4a4e-ba05-f49a2d3026ba",
   "metadata": {},
   "source": [
    "## Question 3:\n",
    "\n",
    "Use the print function to display the following text exactly as it is:\n",
    "\n",
    "Python is fun!\n",
    "Let's learn together."
   ]
  },
  {
   "cell_type": "code",
   "execution_count": 3,
   "id": "914bd9ea-78f2-48a8-bd84-6764ee481771",
   "metadata": {},
   "outputs": [
    {
     "name": "stdout",
     "output_type": "stream",
     "text": [
      "Python is fun!\n",
      "Let's learn together.\n"
     ]
    }
   ],
   "source": [
    "print(\"Python is fun!\\nLet's learn together.\")"
   ]
  },
  {
   "cell_type": "markdown",
   "id": "fe87ebf1-33d1-4cf7-93ca-86504f479b83",
   "metadata": {},
   "source": [
    "# Question 4:\n",
    "\n",
    "Write a Python program to calculate and print the result of multiplying 6 by\n",
    "9."
   ]
  },
  {
   "cell_type": "code",
   "execution_count": 4,
   "id": "3447b722-a318-4f42-993b-f96a97e804d3",
   "metadata": {},
   "outputs": [
    {
     "name": "stdout",
     "output_type": "stream",
     "text": [
      "54\n"
     ]
    }
   ],
   "source": [
    "print(6*9)"
   ]
  },
  {
   "cell_type": "markdown",
   "id": "236441cf-4340-4e05-bd8c-9ce42fdb72de",
   "metadata": {},
   "source": [
    "## Question 5:\n",
    "\n",
    "Write a Python program that prints the result of adding 5 + 5 and\n",
    "multiplying 2 * 3 in a single line of code."
   ]
  },
  {
   "cell_type": "code",
   "execution_count": 6,
   "id": "4b804d32-6cab-479a-b8db-4f9c0aa23107",
   "metadata": {},
   "outputs": [
    {
     "name": "stdout",
     "output_type": "stream",
     "text": [
      "Addition is 10 \n",
      "Multiplication is 6\n"
     ]
    }
   ],
   "source": [
    "print(\"Addition is\",5+5,\"\\nMultiplication is\",2*3)"
   ]
  },
  {
   "cell_type": "markdown",
   "id": "820def2a-6d3e-4b04-a8fc-0d6469bebca1",
   "metadata": {},
   "source": [
    "### 1. Take the name A as input from the user and print \"Hello A\", where A isthe name in input."
   ]
  },
  {
   "cell_type": "code",
   "execution_count": 7,
   "id": "e04820b5-4bb6-4a43-8744-c9fdeec4b70e",
   "metadata": {},
   "outputs": [
    {
     "name": "stdin",
     "output_type": "stream",
     "text": [
      "Enter your name : Gokul Jujgar\n"
     ]
    },
    {
     "name": "stdout",
     "output_type": "stream",
     "text": [
      "Hello Gokul Jujgar\n"
     ]
    }
   ],
   "source": [
    "A=input(\"Enter your name :\")\n",
    "print(\"Hello\",A)"
   ]
  },
  {
   "cell_type": "markdown",
   "id": "076bd2aa-5992-4282-847c-c5dcbf651cb2",
   "metadata": {},
   "source": [
    "### 2. You have x rupees in your savings. You google pay y rupees, print yourbank balance"
   ]
  },
  {
   "cell_type": "code",
   "execution_count": 7,
   "id": "61e9027b-318a-44e6-8d84-87402f673361",
   "metadata": {},
   "outputs": [
    {
     "name": "stdout",
     "output_type": "stream",
     "text": [
      "Your bank balance is 3000\n"
     ]
    }
   ],
   "source": [
    "saving_ruppes=10000\n",
    "google_pay_rupees=7000\n",
    "print(\"Your bank balance is\",saving_ruppes-google_pay_rupees)"
   ]
  },
  {
   "cell_type": "markdown",
   "id": "4737e4bb-baa9-4fca-a862-6a581a509766",
   "metadata": {},
   "source": [
    "### 3. Print the first five letters of the English alphabet i.e. A, B, C, D and E.one below each other"
   ]
  },
  {
   "cell_type": "code",
   "execution_count": 10,
   "id": "e9453da4-300b-4186-b962-7dd56c25d3e0",
   "metadata": {},
   "outputs": [
    {
     "name": "stdout",
     "output_type": "stream",
     "text": [
      "A\n",
      "B\n",
      "C\n",
      "D\n",
      "E\n"
     ]
    }
   ],
   "source": [
    "print(\"A\",\"B\",\"C\",\"D\",\"E\",sep=\"\\n\")"
   ]
  },
  {
   "cell_type": "markdown",
   "id": "661489c0-b76e-429b-91c7-6ff05d6fe975",
   "metadata": {},
   "source": [
    "### 4. Take two names A and B as input from the user, and print \"A says Hi to B\" (Without quotations), where A and B are the names in input."
   ]
  },
  {
   "cell_type": "code",
   "execution_count": 9,
   "id": "e4338e05-788e-4f37-a266-a5651dfb926b",
   "metadata": {},
   "outputs": [
    {
     "name": "stdin",
     "output_type": "stream",
     "text": [
      "Enter your name: Gokul\n",
      "Enter your friend's name: Mayur\n"
     ]
    },
    {
     "name": "stdout",
     "output_type": "stream",
     "text": [
      "Gokul says Hi to Mayur\n"
     ]
    }
   ],
   "source": [
    "A=input(\"Enter your name:\")\n",
    "B=input(\"Enter your friend's name:\")\n",
    "print(A,\"says Hi to\",B)"
   ]
  }
 ],
 "metadata": {
  "kernelspec": {
   "display_name": "Python 3 (ipykernel)",
   "language": "python",
   "name": "python3"
  },
  "language_info": {
   "codemirror_mode": {
    "name": "ipython",
    "version": 3
   },
   "file_extension": ".py",
   "mimetype": "text/x-python",
   "name": "python",
   "nbconvert_exporter": "python",
   "pygments_lexer": "ipython3",
   "version": "3.12.6"
  }
 },
 "nbformat": 4,
 "nbformat_minor": 5
}
