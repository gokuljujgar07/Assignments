{
 "cells": [
  {
   "cell_type": "markdown",
   "id": "46bab323-b024-4ecc-b9d7-30d5318c5f36",
   "metadata": {},
   "source": [
    "# Question 1:\n",
    "\n",
    "Create a variable age and assign it the value 25 . Then print the value of\n",
    "age along with its data type using the type() function."
   ]
  },
  {
   "cell_type": "code",
   "execution_count": 2,
   "id": "23e13e52-cdb5-4b0b-92cb-48cd3a33a313",
   "metadata": {},
   "outputs": [
    {
     "data": {
      "text/plain": [
       "int"
      ]
     },
     "execution_count": 2,
     "metadata": {},
     "output_type": "execute_result"
    }
   ],
   "source": [
    "age=25\n",
    "type(age)"
   ]
  },
  {
   "cell_type": "markdown",
   "id": "0e875466-152b-4afb-82ae-012f73068308",
   "metadata": {},
   "source": [
    "# Question 2:\n",
    "\n",
    "Assign the number 12.5 to a variable price . Print both the variable and its\n",
    "data type. Then assign the value 12 to the same variable and print its data\n",
    "type again. What do you observe?"
   ]
  },
  {
   "cell_type": "code",
   "execution_count": 7,
   "id": "b8691e4a-bb17-4513-8232-c4a4c41f628e",
   "metadata": {},
   "outputs": [
    {
     "data": {
      "text/plain": [
       "float"
      ]
     },
     "execution_count": 7,
     "metadata": {},
     "output_type": "execute_result"
    }
   ],
   "source": [
    "price=12.5\n",
    "type(price)"
   ]
  },
  {
   "cell_type": "code",
   "execution_count": 6,
   "id": "4f351981-50fd-4d71-a6e4-fe4dae448bcf",
   "metadata": {},
   "outputs": [
    {
     "data": {
      "text/plain": [
       "int"
      ]
     },
     "execution_count": 6,
     "metadata": {},
     "output_type": "execute_result"
    }
   ],
   "source": [
    "price=12\n",
    "type(price)"
   ]
  },
  {
   "cell_type": "markdown",
   "id": "6b110ddf-8cf0-47d5-bfda-e454a475cd6a",
   "metadata": {},
   "source": [
    "# Question 3:\n",
    "\n",
    "Create a variable is_raining and set it to True . Print the value of the variable\n",
    "along with its type. Then set is_raining to False and print the new value and\n",
    "type."
   ]
  },
  {
   "cell_type": "code",
   "execution_count": 1,
   "id": "308b12a4-840d-41b1-a914-e3c0fd4941b7",
   "metadata": {},
   "outputs": [
    {
     "data": {
      "text/plain": [
       "bool"
      ]
     },
     "execution_count": 1,
     "metadata": {},
     "output_type": "execute_result"
    }
   ],
   "source": [
    "is_raining=True\n",
    "type(is_raining)"
   ]
  },
  {
   "cell_type": "code",
   "execution_count": 2,
   "id": "087832e6-791b-481c-bc64-561dfcd556fb",
   "metadata": {},
   "outputs": [
    {
     "data": {
      "text/plain": [
       "bool"
      ]
     },
     "execution_count": 2,
     "metadata": {},
     "output_type": "execute_result"
    }
   ],
   "source": [
    "is_raining=False\n",
    "type(is_raining)"
   ]
  },
  {
   "cell_type": "markdown",
   "id": "09f14110-69ec-47a6-b37e-f539cca9341e",
   "metadata": {},
   "source": [
    "# Question 4:\n",
    "\n",
    "Create a variable my_name and store your full name in it as a string. Then\n",
    "print the value of my_name using single quotes ' ."
   ]
  },
  {
   "cell_type": "code",
   "execution_count": 1,
   "id": "d52970ba-eea9-4668-8d08-7537096bb8c8",
   "metadata": {},
   "outputs": [
    {
     "name": "stdout",
     "output_type": "stream",
     "text": [
      "Gokul Laxman Jujgar\n"
     ]
    }
   ],
   "source": [
    "my_name='Gokul Laxman Jujgar'\n",
    "print(my_name)"
   ]
  },
  {
   "cell_type": "markdown",
   "id": "3f4a249c-c248-465e-a485-a5f80729bc98",
   "metadata": {},
   "source": [
    "# Question 5:\n",
    "\n",
    "Write a Python program that asks the user for their name and age using the\n",
    "input() function. Store the inputs in variables and print a sentence like\n",
    "\"Hello, [Name]! You are [Age] years old.\" Ensure you cast the age to an\n",
    "integer."
   ]
  },
  {
   "cell_type": "code",
   "execution_count": 5,
   "id": "4cc2265a-a731-4d13-8067-a277f860e1f2",
   "metadata": {},
   "outputs": [
    {
     "name": "stdin",
     "output_type": "stream",
     "text": [
      "Enter your name :  Gokul\n",
      "Enter your age  :  21\n"
     ]
    },
    {
     "name": "stdout",
     "output_type": "stream",
     "text": [
      "Hello Gokul you are 21 years old\n"
     ]
    },
    {
     "data": {
      "text/plain": [
       "int"
      ]
     },
     "execution_count": 5,
     "metadata": {},
     "output_type": "execute_result"
    }
   ],
   "source": [
    "name=input(\"Enter your name : \")\n",
    "age=int(input(\"Enter your age  : \"))\n",
    "print(\"Hello\",name,\"you are\",age,\"years old\")\n",
    "type(age)"
   ]
  },
  {
   "cell_type": "markdown",
   "id": "0bce9d0b-5ff3-46c4-b831-a52366c2078a",
   "metadata": {},
   "source": [
    "# Question 6:\n",
    "\n",
    "Create two variables x and y and assign them the values 10 and 3.5 ,\n",
    "respectively. Print their values and types. Then, create a new variable\n",
    "sum_xy and store the sum of x and y . Print the result and its type."
   ]
  },
  {
   "cell_type": "code",
   "execution_count": 6,
   "id": "1dab6c25-9431-4a86-90df-2e365973ae2a",
   "metadata": {},
   "outputs": [
    {
     "name": "stdout",
     "output_type": "stream",
     "text": [
      "10 \n",
      " <class 'int'>\n",
      "3.5 \n",
      " <class 'float'>\n",
      "13.5 \n",
      " <class 'float'>\n"
     ]
    }
   ],
   "source": [
    "x=10\n",
    "y=3.5\n",
    "print(x,\"\\n\",type(x))\n",
    "print(y,\"\\n\",type(y))\n",
    "sum_xy=x+y\n",
    "print(sum_xy,\"\\n\",type(sum_xy))"
   ]
  },
  {
   "cell_type": "markdown",
   "id": "dc05b8db-7fed-4c76-9f19-09149afa5520",
   "metadata": {},
   "source": [
    "# Question 7:\n",
    "\n",
    "Using the type() function, check and print the data type of the following:\n",
    "\n",
    "45.0,\n",
    "\"hello\",\n",
    "None,\n",
    "False"
   ]
  },
  {
   "cell_type": "code",
   "execution_count": 10,
   "id": "b68b36de-1fe8-4888-9791-ab3c68153f37",
   "metadata": {},
   "outputs": [
    {
     "data": {
      "text/plain": [
       "float"
      ]
     },
     "execution_count": 10,
     "metadata": {},
     "output_type": "execute_result"
    }
   ],
   "source": [
    "type(45.0)"
   ]
  },
  {
   "cell_type": "code",
   "execution_count": 11,
   "id": "4294ed8f-a027-4f8f-93e1-fbcda3009cea",
   "metadata": {},
   "outputs": [
    {
     "data": {
      "text/plain": [
       "str"
      ]
     },
     "execution_count": 11,
     "metadata": {},
     "output_type": "execute_result"
    }
   ],
   "source": [
    "type(\"hello\")"
   ]
  },
  {
   "cell_type": "code",
   "execution_count": 12,
   "id": "7a4737e2-cefc-4fc9-9c2c-82521c2e8dd0",
   "metadata": {},
   "outputs": [
    {
     "data": {
      "text/plain": [
       "NoneType"
      ]
     },
     "execution_count": 12,
     "metadata": {},
     "output_type": "execute_result"
    }
   ],
   "source": [
    "type(None)"
   ]
  },
  {
   "cell_type": "code",
   "execution_count": 13,
   "id": "200a5f69-179d-4275-8088-c3216c63f986",
   "metadata": {},
   "outputs": [
    {
     "data": {
      "text/plain": [
       "bool"
      ]
     },
     "execution_count": 13,
     "metadata": {},
     "output_type": "execute_result"
    }
   ],
   "source": [
    "type(False)"
   ]
  },
  {
   "cell_type": "markdown",
   "id": "62fef11f-e41d-4659-af05-f102ad83d26c",
   "metadata": {},
   "source": [
    "# Question 8:\n",
    "\n",
    "Write a Python program to print three strings \"apple\" , \"banana\" , and \"cherry\"\n",
    "on the same line, separated by a space. Then modify the program to\n",
    "separate the strings using a comma , instead of a space."
   ]
  },
  {
   "cell_type": "code",
   "execution_count": 2,
   "id": "722fb888-a671-4f8e-a497-ccb18d0dc055",
   "metadata": {},
   "outputs": [
    {
     "name": "stdout",
     "output_type": "stream",
     "text": [
      "apple banana cherry\n"
     ]
    }
   ],
   "source": [
    "# Printing strings separated by a space\n",
    "print(\"apple\", \"banana\", \"cherry\")\n"
   ]
  },
  {
   "cell_type": "code",
   "execution_count": 3,
   "id": "66ee646e-8bcd-4086-ac81-eca62b373f8c",
   "metadata": {},
   "outputs": [
    {
     "name": "stdout",
     "output_type": "stream",
     "text": [
      "apple, banana, cherry\n"
     ]
    }
   ],
   "source": [
    "# Printing strings separated by a comma\n",
    "print(\"apple\", \"banana\", \"cherry\", sep=\", \")"
   ]
  },
  {
   "cell_type": "markdown",
   "id": "2f6b786f-f11a-409c-8baa-216c9950908e",
   "metadata": {},
   "source": [
    "# Question 9:\n",
    "\n",
    "Create a variable big_number and assign it a very large integer value (e.g.,\n",
    "987654321987654321 ). Print the value and its type. What do you notice about\n",
    "the size of the number?"
   ]
  },
  {
   "cell_type": "code",
   "execution_count": 28,
   "id": "5b329938-f232-443e-9259-352874ce6ca7",
   "metadata": {},
   "outputs": [
    {
     "name": "stdout",
     "output_type": "stream",
     "text": [
      "987654321987654321\n"
     ]
    },
    {
     "data": {
      "text/plain": [
       "int"
      ]
     },
     "execution_count": 28,
     "metadata": {},
     "output_type": "execute_result"
    }
   ],
   "source": [
    "big_number=987654321987654321 \n",
    "print(big_number)\n",
    "type(big_number)"
   ]
  },
  {
   "cell_type": "markdown",
   "id": "034b0fcd-3da4-45f7-b298-7cbfd9206fd3",
   "metadata": {},
   "source": [
    "# Question 10:\n",
    "\n",
    "Write a Python program that prints the result of multiplying two floats (e.g.,\n",
    "2.5 and 3.7 ). Then check and print the data type of the result."
   ]
  },
  {
   "cell_type": "code",
   "execution_count": 18,
   "id": "d925b7fa-89b0-4b1c-a1a0-a13662c4230f",
   "metadata": {},
   "outputs": [
    {
     "name": "stdout",
     "output_type": "stream",
     "text": [
      "9.25\n",
      "<class 'float'>\n"
     ]
    }
   ],
   "source": [
    "x=2.5\n",
    "y=3.7\n",
    "z=x*y\n",
    "print(z,type(z),sep=\"\\n\")"
   ]
  },
  {
   "cell_type": "code",
   "execution_count": null,
   "id": "e07c1989-e533-46ec-aaab-7acbafbcf7a9",
   "metadata": {},
   "outputs": [],
   "source": []
  }
 ],
 "metadata": {
  "kernelspec": {
   "display_name": "Python 3 (ipykernel)",
   "language": "python",
   "name": "python3"
  },
  "language_info": {
   "codemirror_mode": {
    "name": "ipython",
    "version": 3
   },
   "file_extension": ".py",
   "mimetype": "text/x-python",
   "name": "python",
   "nbconvert_exporter": "python",
   "pygments_lexer": "ipython3",
   "version": "3.12.6"
  }
 },
 "nbformat": 4,
 "nbformat_minor": 5
}
