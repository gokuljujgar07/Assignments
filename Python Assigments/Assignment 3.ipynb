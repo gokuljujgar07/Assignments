{
 "cells": [
  {
   "cell_type": "markdown",
   "id": "aa06e065-497d-4633-b646-7a29297000c6",
   "metadata": {},
   "source": [
    "# Question 1:\n",
    "\n",
    "Create a variable x with the value 15 . Perform floored division by 4 and\n",
    "print the result. What is the difference between floored division and normal\n",
    "division?"
   ]
  },
  {
   "cell_type": "code",
   "execution_count": 2,
   "id": "c6ba6de2-cc3c-409a-b3c6-4a8af9fda4de",
   "metadata": {},
   "outputs": [
    {
     "name": "stdout",
     "output_type": "stream",
     "text": [
      "3\n",
      "3.75\n"
     ]
    }
   ],
   "source": [
    "x=15\n",
    "y=x//4\n",
    "print(y)\n",
    "z=x/4\n",
    "print(z)"
   ]
  },
  {
   "cell_type": "markdown",
   "id": "035f0558-b6d2-445d-abf6-e89257dc097d",
   "metadata": {},
   "source": [
    "# Question 2:\n",
    "\n",
    "Write a program to calculate 8 ** 2 and 16 ** 0.5 . Print both results and\n",
    "describe what each represents."
   ]
  },
  {
   "cell_type": "code",
   "execution_count": 3,
   "id": "845ccbad-d1da-4b0e-ba56-5cbc76c8019e",
   "metadata": {},
   "outputs": [
    {
     "name": "stdout",
     "output_type": "stream",
     "text": [
      "64\n",
      "4.0\n"
     ]
    }
   ],
   "source": [
    "a=8**2\n",
    "b=16**0.5\n",
    "print(a)\n",
    "print(b)"
   ]
  },
  {
   "cell_type": "markdown",
   "id": "55ca6d5c-073e-419f-8e52-54428763858e",
   "metadata": {},
   "source": [
    "# Question 3:\n",
    "\n",
    "\n",
    "Use arithmetic operators to solve the following expression: 20 - 5 * 3 + 8 /\n",
    "4 . Use parentheses to make sure the addition happens before\n",
    "multiplication. Print the output."
   ]
  },
  {
   "cell_type": "code",
   "execution_count": 6,
   "id": "e5c451c0-7761-4c81-a97d-33a39db30493",
   "metadata": {},
   "outputs": [
    {
     "name": "stdout",
     "output_type": "stream",
     "text": [
      "7.0\n"
     ]
    }
   ],
   "source": [
    "result = (20 - (5 * 3)) + (8 / 4)  #(20-15)+(8/4) , 5+(8/4) , 5+2 , 7\n",
    "print(result)"
   ]
  },
  {
   "cell_type": "markdown",
   "id": "baef470c-ad31-477b-8cb7-6684ec9ea509",
   "metadata": {},
   "source": [
    "# Question 4:\n",
    "\n",
    "Assign the value 7 to a variable num . Convert it to a float and print the\n",
    "result. What is the difference between 7 and 7.0 ?"
   ]
  },
  {
   "cell_type": "code",
   "execution_count": 5,
   "id": "2fcc0cb0-6291-4b83-962d-6629c8363095",
   "metadata": {},
   "outputs": [
    {
     "name": "stdout",
     "output_type": "stream",
     "text": [
      "7.0\n"
     ]
    }
   ],
   "source": [
    "num=7\n",
    "print(float(num))"
   ]
  },
  {
   "cell_type": "markdown",
   "id": "3d749dcd-c872-4ff9-8914-ceffde37452f",
   "metadata": {},
   "source": [
    "# Question 5:\n",
    "\n",
    "Use a comparison operator to check if 100 is greater than 50 . Print the\n",
    "result and indicate what type of value this is."
   ]
  },
  {
   "cell_type": "code",
   "execution_count": 8,
   "id": "c048cde6-8c51-4d66-a37d-e5c22e199667",
   "metadata": {},
   "outputs": [
    {
     "name": "stdout",
     "output_type": "stream",
     "text": [
      "True\n"
     ]
    },
    {
     "data": {
      "text/plain": [
       "bool"
      ]
     },
     "execution_count": 8,
     "metadata": {},
     "output_type": "execute_result"
    }
   ],
   "source": [
    "print(100>50)\n",
    "type(100>50)      "
   ]
  },
  {
   "cell_type": "markdown",
   "id": "c9ea420e-30a2-4240-aaf8-8f03f83c72df",
   "metadata": {},
   "source": [
    "# Question 6:\n",
    "\n",
    "Assign True to a variable is_sunny and False to is_weekend . Use logical\n",
    "operators to check if it is sunny and the weekend ( is_sunny and is_weekend ).\n",
    "Print the result."
   ]
  },
  {
   "cell_type": "code",
   "execution_count": 1,
   "id": "1933e317-6510-43dd-893a-99427830de69",
   "metadata": {},
   "outputs": [
    {
     "name": "stdout",
     "output_type": "stream",
     "text": [
      "False\n"
     ]
    }
   ],
   "source": [
    "is_sunny=True\n",
    "is_weekend=False\n",
    "x=is_sunny and is_weekend\n",
    "print(x)"
   ]
  },
  {
   "cell_type": "markdown",
   "id": "eb086152-8a5e-465c-a0ae-6b782f75dc07",
   "metadata": {},
   "source": [
    "# Question 7:\n",
    "\n",
    "Create a variable password and set it to \"my_password123\" . Ask the user to input\n",
    "a password and print True if the input matches the value of password ,\n",
    "otherwise print False ."
   ]
  },
  {
   "cell_type": "code",
   "execution_count": 4,
   "id": "d652b2b3-a2ef-4efa-8580-202924d05175",
   "metadata": {},
   "outputs": [
    {
     "name": "stdin",
     "output_type": "stream",
     "text": [
      "Enter your password : my_password123\n"
     ]
    },
    {
     "name": "stdout",
     "output_type": "stream",
     "text": [
      "True\n"
     ]
    }
   ],
   "source": [
    "password=\"my_password123\"\n",
    "user=input(\"Enter your password :\")\n",
    "if password==user:\n",
    "    print(\"True\")\n",
    "else:\n",
    "    print(\"False\")"
   ]
  },
  {
   "cell_type": "markdown",
   "id": "55597c81-b674-4ca2-89c3-eaa641e8917b",
   "metadata": {},
   "source": [
    "# Question 8\n",
    "\n",
    "Assign the value 50 to a variable marks . Increment the value of marks by 5\n",
    "using the += operator, then print the new value."
   ]
  },
  {
   "cell_type": "code",
   "execution_count": 5,
   "id": "a5204fd2-c4d7-45d8-b930-b6aa1db0a2b2",
   "metadata": {},
   "outputs": [
    {
     "name": "stdout",
     "output_type": "stream",
     "text": [
      "55\n"
     ]
    }
   ],
   "source": [
    "marks=50\n",
    "#print(marks)\n",
    "marks+=5\n",
    "print(marks)"
   ]
  },
  {
   "cell_type": "markdown",
   "id": "873d11e8-9afb-4413-b632-ea4392de024e",
   "metadata": {},
   "source": [
    "# Question 9:\n",
    "\n",
    "Write a program to check if the value of a = 0 and b = 10 satisfies a or b .\n",
    "Print the output and explain why it gives that result."
   ]
  },
  {
   "cell_type": "code",
   "execution_count": 1,
   "id": "5c7e985c-cf01-4e6d-b0d5-259d35a80f4c",
   "metadata": {},
   "outputs": [
    {
     "name": "stdout",
     "output_type": "stream",
     "text": [
      "Result of a or b: 10\n"
     ]
    }
   ],
   "source": [
    "a = 0 # becouse this is false value\n",
    "b = 10 # this is true value\n",
    "\n",
    "result = a or b\n",
    "print(\"Result of a or b:\", result)"
   ]
  },
  {
   "cell_type": "markdown",
   "id": "7c9d7072-6dd0-48fb-93a3-c70185947673",
   "metadata": {},
   "source": [
    "# Question 10:\n",
    "\n",
    "Use not to negate the value of False and print the result. Explain what the\n",
    "not operator does in Python."
   ]
  },
  {
   "cell_type": "code",
   "execution_count": 36,
   "id": "270fbe56-238b-43b8-a1d8-8700a8297ec9",
   "metadata": {},
   "outputs": [
    {
     "name": "stdout",
     "output_type": "stream",
     "text": [
      "True\n"
     ]
    }
   ],
   "source": [
    "print(not 10>20)"
   ]
  }
 ],
 "metadata": {
  "kernelspec": {
   "display_name": "Python 3 (ipykernel)",
   "language": "python",
   "name": "python3"
  },
  "language_info": {
   "codemirror_mode": {
    "name": "ipython",
    "version": 3
   },
   "file_extension": ".py",
   "mimetype": "text/x-python",
   "name": "python",
   "nbconvert_exporter": "python",
   "pygments_lexer": "ipython3",
   "version": "3.12.8"
  }
 },
 "nbformat": 4,
 "nbformat_minor": 5
}
