{
 "cells": [
  {
   "cell_type": "markdown",
   "id": "e0892b74-641d-425b-bca1-ba7be4bd224a",
   "metadata": {},
   "source": [
    "# 1. Short Answer Questions"
   ]
  },
  {
   "cell_type": "markdown",
   "id": "5394a7ad-33e6-482c-9344-a6b325555da4",
   "metadata": {},
   "source": [
    "# Q1. Explain the difference between def statements and lambda expressions. Give an example of each."
   ]
  },
  {
   "cell_type": "markdown",
   "id": "cd51522d-63e6-4186-8832-49268d0b1b91",
   "metadata": {},
   "source": [
    " - A def statement is used to define a regular function with a name and possibly multiple lines of code.\n",
    "\n",
    " -  A lambda expression is used to create an anonymous (unnamed) function in a single line."
   ]
  },
  {
   "cell_type": "markdown",
   "id": "ff1b9ba9-147c-4a06-93c9-cebda4286bf8",
   "metadata": {},
   "source": [
    "### Example of def"
   ]
  },
  {
   "cell_type": "code",
   "execution_count": 29,
   "id": "f24a3253-0c7d-42a2-9102-382eadf3e0d3",
   "metadata": {},
   "outputs": [
    {
     "data": {
      "text/plain": [
       "5"
      ]
     },
     "execution_count": 29,
     "metadata": {},
     "output_type": "execute_result"
    }
   ],
   "source": [
    "def add(a, b):\n",
    "    return a + b\n",
    "add(2, 3)"
   ]
  },
  {
   "cell_type": "markdown",
   "id": "45159935-1391-4723-8805-8c17c443141c",
   "metadata": {},
   "source": [
    "### Example of lambda"
   ]
  },
  {
   "cell_type": "code",
   "execution_count": 30,
   "id": "c0b16d92-4984-4e91-b8a1-aa0bed1ac2c6",
   "metadata": {},
   "outputs": [
    {
     "data": {
      "text/plain": [
       "5"
      ]
     },
     "execution_count": 30,
     "metadata": {},
     "output_type": "execute_result"
    }
   ],
   "source": [
    "add = lambda a, b: a + b\n",
    "add(2, 3)"
   ]
  },
  {
   "cell_type": "markdown",
   "id": "c2e61c3c-3157-4948-8ec1-fea3a30956b6",
   "metadata": {},
   "source": [
    "# Q2. List and explain three benefits of using lambda expressions."
   ]
  },
  {
   "cell_type": "markdown",
   "id": "1227bffe-59f0-4398-ac9c-62b4366ea008",
   "metadata": {},
   "source": [
    "## 1 Concise and Short Syntax:\n",
    "- Lambda expressions allow you to write small functions in a single line. This is helpful when you need a simple function for a short task.\n",
    "\n",
    "## 2 Used as Anonymous Functions:\n",
    "- Lambdas do not need a name, so they are useful when you don’t want to create a separate function with def. They are commonly used inside functions like map(), filter(), and sorted().\n",
    "\n",
    "## 3 Improves Code Readability in Simple Cases:\n",
    "- When used correctly, lambda expressions can make the code more readable by keeping simple logic close to where it is used."
   ]
  },
  {
   "cell_type": "markdown",
   "id": "7b7471a6-b7f3-4724-894e-4f771b599edd",
   "metadata": {},
   "source": [
    "# Q3. Compare map(), filter(), and reduce() with one-line examples using a lambda function and a list."
   ]
  },
  {
   "cell_type": "markdown",
   "id": "ea01cd19-6eba-4c2a-a06a-14c231c37198",
   "metadata": {},
   "source": [
    "### 1. map()"
   ]
  },
  {
   "cell_type": "code",
   "execution_count": 31,
   "id": "7aaae459-588a-4773-9e67-fd75a77abae1",
   "metadata": {},
   "outputs": [
    {
     "data": {
      "text/plain": [
       "[2, 4, 6, 8]"
      ]
     },
     "execution_count": 31,
     "metadata": {},
     "output_type": "execute_result"
    }
   ],
   "source": [
    "list(map(lambda x: x * 2, [1, 2, 3, 4])) #  Doubles each element in the list."
   ]
  },
  {
   "cell_type": "markdown",
   "id": "24f0cf7c-7043-41cf-ace0-08716e4175a3",
   "metadata": {},
   "source": [
    "### 2. filter()"
   ]
  },
  {
   "cell_type": "code",
   "execution_count": 32,
   "id": "bc4d3e8a-2e17-46ba-90ef-ef3d81566361",
   "metadata": {},
   "outputs": [
    {
     "data": {
      "text/plain": [
       "[2, 4]"
      ]
     },
     "execution_count": 32,
     "metadata": {},
     "output_type": "execute_result"
    }
   ],
   "source": [
    "list(filter(lambda x: x % 2 == 0, [1, 2, 3, 4])) #  Keeps only the even numbers."
   ]
  },
  {
   "cell_type": "markdown",
   "id": "564b69ec-f9ad-4035-ae32-8997a6879b06",
   "metadata": {},
   "source": [
    "### 3. reduce()"
   ]
  },
  {
   "cell_type": "code",
   "execution_count": 33,
   "id": "2da89f6b-f877-459c-bc48-36b9f56eeab7",
   "metadata": {},
   "outputs": [
    {
     "data": {
      "text/plain": [
       "10"
      ]
     },
     "execution_count": 33,
     "metadata": {},
     "output_type": "execute_result"
    }
   ],
   "source": [
    "from functools import reduce\n",
    "reduce(lambda x, y: x + y, [1, 2, 3, 4]) # Sums up all the elements "
   ]
  },
  {
   "cell_type": "markdown",
   "id": "cf90f2d6-86a4-4a59-a04f-8428df9d41fd",
   "metadata": {},
   "source": [
    "# Q4. What are function annotations in Python? Write a function that uses them."
   ]
  },
  {
   "cell_type": "markdown",
   "id": "381ae47c-cd33-4a2d-9922-b64721d4c7cc",
   "metadata": {},
   "source": [
    "Function annotations in Python are a way to add metadata about the types of parameters and the return value of a function. These annotations are not enforced by Python but can help with code clarity, documentation, and static type checking (e.g., with tools like mypy or IDEs like PyCharm)."
   ]
  },
  {
   "cell_type": "markdown",
   "id": "53e4e9f6-a62e-4f2e-a4f5-b8db5703b7c6",
   "metadata": {},
   "source": [
    "### Example: Function with Annotations"
   ]
  },
  {
   "cell_type": "code",
   "execution_count": 34,
   "id": "75561b3a-230a-469f-b6f7-58a2f86ff883",
   "metadata": {},
   "outputs": [],
   "source": [
    "def greet(name: str, age: int) -> str:\n",
    "    return f\"Hello, {name}! You are {age} years old.\""
   ]
  },
  {
   "cell_type": "code",
   "execution_count": 35,
   "id": "385e88ce-5985-4d0e-bb36-08fdab478875",
   "metadata": {},
   "outputs": [
    {
     "data": {
      "text/plain": [
       "'Hello, Gokul! You are 21 years old.'"
      ]
     },
     "execution_count": 35,
     "metadata": {},
     "output_type": "execute_result"
    }
   ],
   "source": [
    "greet(\"Gokul\",21)"
   ]
  },
  {
   "cell_type": "markdown",
   "id": "96bcad5d-7445-46a7-a6ce-ee66ffea5e53",
   "metadata": {},
   "source": [
    "# Q5. What is a recursive function? Write a simple recursive function to calculate the factorial of a number."
   ]
  },
  {
   "cell_type": "markdown",
   "id": "71525df8-b44b-47ec-bafa-3aefe34ddcda",
   "metadata": {},
   "source": [
    "A recursive function is a function that calls itself to solve smaller parts of the same problem.\n",
    "It has two main parts:\n",
    "\n",
    "- Base Case – the condition that stops the recursion.\n",
    "\n",
    "- Recursive Case – the function keeps calling itself with smaller values."
   ]
  },
  {
   "cell_type": "markdown",
   "id": "77fbe723-2abc-4467-9d37-f9a47dc0fc2a",
   "metadata": {},
   "source": [
    "### Example of Recursive Function for Factorial\n"
   ]
  },
  {
   "cell_type": "code",
   "execution_count": 36,
   "id": "9b152de5-3449-456f-b7ec-bb68441842e9",
   "metadata": {},
   "outputs": [],
   "source": [
    "def factorial(n: int) -> int:\n",
    "    if n == 0 or n == 1:       # Base case\n",
    "        return 1\n",
    "    else:\n",
    "        return n * factorial(n - 1)   # Recursive case"
   ]
  },
  {
   "cell_type": "code",
   "execution_count": 37,
   "id": "9bc203e6-aaaf-4cdc-a92b-252bff8b7f83",
   "metadata": {},
   "outputs": [
    {
     "data": {
      "text/plain": [
       "120"
      ]
     },
     "execution_count": 37,
     "metadata": {},
     "output_type": "execute_result"
    }
   ],
   "source": [
    "factorial(5)"
   ]
  },
  {
   "cell_type": "markdown",
   "id": "ee4ce733-c96a-466c-9cce-aa9cd307d814",
   "metadata": {},
   "source": [
    "# Q6. State five design guidelines you should follow while writing functions in Python."
   ]
  },
  {
   "cell_type": "markdown",
   "id": "89231d1e-d00b-4e3e-8657-49f50efb62af",
   "metadata": {},
   "source": [
    "Here are five important design guidelines you should follow to write clean, readable, and reusable functions in Python:"
   ]
  },
  {
   "cell_type": "markdown",
   "id": "6abc0339-d183-44d6-919e-af51dd0d3d3b",
   "metadata": {},
   "source": [
    "### 1️⃣ Use a Meaningful Function Name\n",
    "- The function name should clearly describe what the function does.\n",
    "\n",
    "✅ Good: calculate_total()"
   ]
  },
  {
   "cell_type": "markdown",
   "id": "fc7ad11c-bf1d-4e1f-92e9-1462809fb771",
   "metadata": {},
   "source": [
    "### 2️⃣ Keep Functions Short and Focused\n",
    "- A function should do only one specific task.\n",
    "\n",
    "- If it's doing multiple things, break it into smaller functions."
   ]
  },
  {
   "cell_type": "markdown",
   "id": "7137cdbe-ca17-43f5-95a6-809e73b5e63a",
   "metadata": {},
   "source": [
    "### 3️⃣ Use Parameters Instead of Global Variables\n",
    "- Always pass inputs as parameters rather than depending on global values.\n",
    "\n",
    "- This makes the function easier to test and reuse.\n",
    "\n"
   ]
  },
  {
   "cell_type": "markdown",
   "id": "6341aae5-e815-43a0-b934-c526370386f3",
   "metadata": {},
   "source": [
    "### 4️⃣ Include a Docstring\n",
    " - Write a short description of what the function does, its parameters, and return value."
   ]
  },
  {
   "cell_type": "code",
   "execution_count": 38,
   "id": "6ab49a17-9b32-43ca-8373-2a180bba4a02",
   "metadata": {},
   "outputs": [],
   "source": [
    "def greet(name: str) -> str:\n",
    "    \"\"\"Returns a greeting message for the given name.\"\"\"\n",
    "    return f\"Hello, {name}!\""
   ]
  },
  {
   "cell_type": "code",
   "execution_count": 39,
   "id": "6da3ddfa-ba93-4dfe-8e1b-091ded9163f7",
   "metadata": {},
   "outputs": [
    {
     "data": {
      "text/plain": [
       "'Hello, Gokul!'"
      ]
     },
     "execution_count": 39,
     "metadata": {},
     "output_type": "execute_result"
    }
   ],
   "source": [
    "greet(\"Gokul\")"
   ]
  },
  {
   "cell_type": "markdown",
   "id": "31d7e325-c687-43c5-88e5-bb12358c255b",
   "metadata": {},
   "source": [
    "### 5️⃣ Use Return Statements to Send Results\n",
    "- Functions should return results instead of printing them, so they can be reused in other parts of the program."
   ]
  },
  {
   "cell_type": "code",
   "execution_count": 40,
   "id": "a0db9f5a-38fe-460a-94fb-fe3591440605",
   "metadata": {},
   "outputs": [],
   "source": [
    "def add(a, b):\n",
    "    return a + b"
   ]
  },
  {
   "cell_type": "code",
   "execution_count": 41,
   "id": "bb7e628d-dd14-4681-90f0-67bb4168556e",
   "metadata": {},
   "outputs": [
    {
     "data": {
      "text/plain": [
       "30"
      ]
     },
     "execution_count": 41,
     "metadata": {},
     "output_type": "execute_result"
    }
   ],
   "source": [
    "add(10,20)"
   ]
  },
  {
   "cell_type": "markdown",
   "id": "44c336ee-b2c4-4898-9792-1eec9a6f1ebe",
   "metadata": {},
   "source": [
    "# Q7. Name at least three ways a function can communicate results to a caller and briefly explain each."
   ]
  },
  {
   "cell_type": "markdown",
   "id": "e31000ea-2ef2-423a-abc4-fc5529b2ec31",
   "metadata": {},
   "source": [
    "### 1️⃣ Return Statement\n",
    "- The most direct and common way.\n",
    "\n",
    "- The function returns a value using the return keyword.\n",
    "\n",
    "- This value can be stored or used by the caller."
   ]
  },
  {
   "cell_type": "code",
   "execution_count": 42,
   "id": "a42d3c9d-d558-47fa-bcc0-9aa8d1f75976",
   "metadata": {},
   "outputs": [],
   "source": [
    "def add(a, b):\n",
    "    return a + b\n",
    "\n",
    "result = add(5, 3) "
   ]
  },
  {
   "cell_type": "code",
   "execution_count": 43,
   "id": "446d5a61-aafc-466f-b9a5-710a5ea83037",
   "metadata": {},
   "outputs": [
    {
     "data": {
      "text/plain": [
       "12"
      ]
     },
     "execution_count": 43,
     "metadata": {},
     "output_type": "execute_result"
    }
   ],
   "source": [
    "add(5,7)"
   ]
  },
  {
   "cell_type": "markdown",
   "id": "2ae801ad-f403-41e8-843b-49eb6abe2266",
   "metadata": {},
   "source": [
    "### 2️⃣ Modifying Mutable Objects (like lists or dictionaries)\n",
    "- If a function receives a mutable object (e.g., list or dict), it can modify it directly.\n",
    "\n",
    "- Changes will be visible outside the function."
   ]
  },
  {
   "cell_type": "code",
   "execution_count": 44,
   "id": "a51c1c09-0823-4383-8823-c632063e3178",
   "metadata": {},
   "outputs": [
    {
     "name": "stdout",
     "output_type": "stream",
     "text": [
      "[1, 2, 3, 10]\n"
     ]
    }
   ],
   "source": [
    "def append_item(my_list):\n",
    "    my_list.append(10)\n",
    "\n",
    "numbers = [1, 2, 3]\n",
    "append_item(numbers)\n",
    "print(numbers)  "
   ]
  },
  {
   "cell_type": "markdown",
   "id": "14be183f-65ba-4760-83fb-6600aba5fe63",
   "metadata": {},
   "source": [
    "### 3️⃣ Using Global Variables (Not Recommended for Large Projects)\n",
    "- A function can access and modify a global variable.\n",
    "\n",
    "- This is not recommended because it can make code harder to understand and debug"
   ]
  },
  {
   "cell_type": "code",
   "execution_count": 45,
   "id": "6ec3734c-aa0b-440d-9ac3-5db26627280a",
   "metadata": {},
   "outputs": [
    {
     "name": "stdout",
     "output_type": "stream",
     "text": [
      "5\n"
     ]
    }
   ],
   "source": [
    "total = 0\n",
    "\n",
    "def update_total(value):\n",
    "    global total\n",
    "    total += value\n",
    "\n",
    "update_total(5)\n",
    "print(total)"
   ]
  },
  {
   "cell_type": "markdown",
   "id": "36e9f7a5-fc40-4c79-9477-487c4d527179",
   "metadata": {},
   "source": [
    "# 2. Coding Tasks"
   ]
  },
  {
   "cell_type": "markdown",
   "id": "4aae25c0-f1b3-4c31-893e-1d07ee529687",
   "metadata": {},
   "source": [
    "## Task 1:\n",
    "- Write a lambda function that takes two numbers and returns their product. Assign it to a variable and call it with 5 and 7."
   ]
  },
  {
   "cell_type": "code",
   "execution_count": 46,
   "id": "49f8d76f-bcf0-4369-9aff-fa9bf1941daf",
   "metadata": {},
   "outputs": [],
   "source": [
    "multiply = lambda a, b: a * b"
   ]
  },
  {
   "cell_type": "code",
   "execution_count": 47,
   "id": "9bab732f-a5e0-475e-a2f5-ba524094aa2a",
   "metadata": {},
   "outputs": [
    {
     "data": {
      "text/plain": [
       "35"
      ]
     },
     "execution_count": 47,
     "metadata": {},
     "output_type": "execute_result"
    }
   ],
   "source": [
    "multiply(7,5)"
   ]
  },
  {
   "cell_type": "markdown",
   "id": "db19cd7b-8fa1-4e7b-b770-8901bc558262",
   "metadata": {},
   "source": [
    "## Task 2:\n",
    "- Use map() to square every number in a list [1, 2, 3, 4, 5]."
   ]
  },
  {
   "cell_type": "code",
   "execution_count": 48,
   "id": "a97a57a2-1c5a-4851-b572-30506e484c75",
   "metadata": {},
   "outputs": [],
   "source": [
    "numbers = [1, 2, 3, 4, 5]\n",
    "squared_numbers = list(map(lambda x: x ** 2, numbers))"
   ]
  },
  {
   "cell_type": "code",
   "execution_count": 49,
   "id": "7b21ba78-7e02-454a-b8e9-f3f5ba8da3d1",
   "metadata": {},
   "outputs": [
    {
     "data": {
      "text/plain": [
       "[1, 4, 9, 16, 25]"
      ]
     },
     "execution_count": 49,
     "metadata": {},
     "output_type": "execute_result"
    }
   ],
   "source": [
    "squared_numbers"
   ]
  },
  {
   "cell_type": "markdown",
   "id": "ee3e9450-a8c1-476b-90c9-291486ac6692",
   "metadata": {},
   "source": [
    "## Task 3:\n",
    "- Use filter() to extract only the even numbers from the list [10, 15, 20, 25, 30]."
   ]
  },
  {
   "cell_type": "code",
   "execution_count": 50,
   "id": "c61efb54-a322-4ad9-b7f2-c8280af35b69",
   "metadata": {},
   "outputs": [],
   "source": [
    "numbers = [10, 15, 20, 25, 30]\n",
    "even_numbers = list(filter(lambda x: x % 2 == 0, numbers))"
   ]
  },
  {
   "cell_type": "code",
   "execution_count": 51,
   "id": "6d7cdf94-916e-4a78-a8ab-d209e40bef87",
   "metadata": {},
   "outputs": [
    {
     "data": {
      "text/plain": [
       "[10, 20, 30]"
      ]
     },
     "execution_count": 51,
     "metadata": {},
     "output_type": "execute_result"
    }
   ],
   "source": [
    "even_numbers"
   ]
  },
  {
   "cell_type": "markdown",
   "id": "8be31154-a706-4bcf-8bcf-c635dfc1473a",
   "metadata": {},
   "source": [
    "## Task 4:\n",
    "- Use reduce() from functools to calculate the product of numbers in [1, 2, 3, 4, 5]."
   ]
  },
  {
   "cell_type": "code",
   "execution_count": 52,
   "id": "002a0d84-6f87-47e2-a467-6c1ce7c1e294",
   "metadata": {},
   "outputs": [],
   "source": [
    "numbers = [1, 2, 3, 4, 5]\n",
    "product = reduce(lambda x, y: x * y, numbers)"
   ]
  },
  {
   "cell_type": "code",
   "execution_count": 53,
   "id": "b5c03fc7-1113-47ba-818a-06b81358f3cb",
   "metadata": {},
   "outputs": [
    {
     "data": {
      "text/plain": [
       "120"
      ]
     },
     "execution_count": 53,
     "metadata": {},
     "output_type": "execute_result"
    }
   ],
   "source": [
    "product"
   ]
  },
  {
   "cell_type": "markdown",
   "id": "0e6ca664-f1ed-4364-9d8e-54458fd910c4",
   "metadata": {},
   "source": [
    "## Task 5:\n",
    "Create a function with annotations that:\n",
    "\n",
    "- takes an integer as input,\n",
    "- returns a string saying whether it is \"Even\" or \"Odd\"."
   ]
  },
  {
   "cell_type": "code",
   "execution_count": 58,
   "id": "fcfa8181-066b-4d94-9349-906762df9dd9",
   "metadata": {},
   "outputs": [],
   "source": [
    "def check_even_odd(n: int) -> str:\n",
    "    \"\"\"\n",
    "    Takes an integer n and returns 'Even' if n is even,\n",
    "    otherwise returns 'Odd'.\n",
    "    \"\"\"\n",
    "    if n % 2 == 0:\n",
    "        return \"Even\"\n",
    "    else:\n",
    "        return \"Odd\"\n"
   ]
  },
  {
   "cell_type": "code",
   "execution_count": 60,
   "id": "8b0e450b-3617-4992-8e07-45b37d4edfd7",
   "metadata": {},
   "outputs": [
    {
     "data": {
      "text/plain": [
       "'Odd'"
      ]
     },
     "execution_count": 60,
     "metadata": {},
     "output_type": "execute_result"
    }
   ],
   "source": [
    "check_even_odd(5)"
   ]
  },
  {
   "cell_type": "markdown",
   "id": "0d678928-f4d3-49c3-af15-b7b9e8dae175",
   "metadata": {},
   "source": [
    "## Task 6:\n",
    "- Write a recursive function to compute the sum of all numbers from 1 to n."
   ]
  },
  {
   "cell_type": "code",
   "execution_count": 61,
   "id": "e7158340-ca37-4f58-b10a-f1dd83b45e59",
   "metadata": {},
   "outputs": [],
   "source": [
    "def recursive_sum(n: int) -> int:\n",
    "    \"\"\"\n",
    "    Returns the sum of all numbers from 1 to n recursively.\n",
    "    \"\"\"\n",
    "    if n == 1:          # Base case\n",
    "        return 1\n",
    "    else:               # Recursive case\n",
    "        return n + recursive_sum(n - 1)"
   ]
  },
  {
   "cell_type": "code",
   "execution_count": 63,
   "id": "639e053e-adf8-4240-bd02-a1d67c2fcac1",
   "metadata": {},
   "outputs": [
    {
     "data": {
      "text/plain": [
       "15"
      ]
     },
     "execution_count": 63,
     "metadata": {},
     "output_type": "execute_result"
    }
   ],
   "source": [
    "recursive_sum(5)\n"
   ]
  },
  {
   "cell_type": "markdown",
   "id": "fbc1d42f-4d72-46cc-9c86-1ba1dcad5fbd",
   "metadata": {},
   "source": [
    "## Bonus Question\n",
    "- Write a function that returns different results using print, return, and yield. Call the function and show how each type of output works."
   ]
  },
  {
   "cell_type": "code",
   "execution_count": 108,
   "id": "0d01e3cd-1249-4217-951e-cebc70d8d408",
   "metadata": {},
   "outputs": [],
   "source": [
    "def return_example(n: int) -> str:\n",
    "    print(\"This is a print statement.\\n\")\n",
    "    if n <= 0:\n",
    "        return \"Returned early for non-positive input.\"\n",
    "    return \"Valid input, but this function only returns.\"\n",
    "\n",
    "def yield_example(n: int):\n",
    "    for i in range(1, n + 1):\n",
    "        yield i"
   ]
  },
  {
   "cell_type": "code",
   "execution_count": 109,
   "id": "34dbe785-12d8-453d-bafa-bc773893f2ba",
   "metadata": {},
   "outputs": [
    {
     "name": "stdout",
     "output_type": "stream",
     "text": [
      "This is a print statement.\n",
      "\n",
      "Returned value example:\n",
      "Returned early for non-positive input.\n",
      "\n",
      "Yield example:\n",
      "1\n",
      "2\n",
      "3\n"
     ]
    }
   ],
   "source": [
    "\n",
    "res = return_example(0)\n",
    "print(\"Returned value example:\")\n",
    "print(res)\n",
    "\n",
    "print(\"\\nYield example:\")\n",
    "gen = yield_example(3)\n",
    "for value in gen:\n",
    "    print(value)"
   ]
  },
  {
   "cell_type": "code",
   "execution_count": null,
   "id": "b51f1254-8350-4957-887d-a3df609f9236",
   "metadata": {},
   "outputs": [],
   "source": []
  }
 ],
 "metadata": {
  "kernelspec": {
   "display_name": "Python 3 (ipykernel)",
   "language": "python",
   "name": "python3"
  },
  "language_info": {
   "codemirror_mode": {
    "name": "ipython",
    "version": 3
   },
   "file_extension": ".py",
   "mimetype": "text/x-python",
   "name": "python",
   "nbconvert_exporter": "python",
   "pygments_lexer": "ipython3",
   "version": "3.12.8"
  }
 },
 "nbformat": 4,
 "nbformat_minor": 5
}
