{
 "cells": [
  {
   "cell_type": "markdown",
   "id": "8922faa4-6bd3-4e70-8746-4961a448dd4e",
   "metadata": {},
   "source": [
    "# 1. Year List Creation\n",
    "Create a list years_list that includes the year of your birth and the next five years (total 6\n",
    "years)."
   ]
  },
  {
   "cell_type": "code",
   "execution_count": 7,
   "id": "78257c9a-3071-4bdd-b228-4d6647ea28c5",
   "metadata": {},
   "outputs": [
    {
     "data": {
      "text/plain": [
       "[2003, 2004, 2005, 2006, 2007, 2008]"
      ]
     },
     "execution_count": 7,
     "metadata": {},
     "output_type": "execute_result"
    }
   ],
   "source": [
    "birth_year = 2003\n",
    "years_list = [birth_year + i for i in range(6)]\n",
    "years_list"
   ]
  },
  {
   "cell_type": "markdown",
   "id": "8cb2bd25-5c82-4bdd-94a2-4c89d17fd890",
   "metadata": {},
   "source": [
    "# 2. Third Birthday Year\n",
    "Print the year in years_list when you were 3 years old.\n",
    "\n",
    "Hint: Remember, your 0th year is the first item."
   ]
  },
  {
   "cell_type": "code",
   "execution_count": 16,
   "id": "10417d2b-d40f-4081-aa7d-a55952f6ee74",
   "metadata": {},
   "outputs": [
    {
     "name": "stdout",
     "output_type": "stream",
     "text": [
      "The year when you were 3 years old: 2006\n"
     ]
    }
   ],
   "source": [
    "print(\"The year when you were 3 years old:\", years_list[3])"
   ]
  },
  {
   "cell_type": "markdown",
   "id": "1fffc267-6fef-4404-991e-0f549865ab84",
   "metadata": {},
   "source": [
    "# 3. Oldest Year\n",
    "Which year in years_list represents the most recent (your oldest age)?"
   ]
  },
  {
   "cell_type": "code",
   "execution_count": 18,
   "id": "9b2575d4-a9c1-4feb-821b-b45045c0317c",
   "metadata": {},
   "outputs": [
    {
     "name": "stdout",
     "output_type": "stream",
     "text": [
      "The most recent oldest year is : 2008\n"
     ]
    }
   ],
   "source": [
    "print(\"The most recent oldest year is :\",years_list[-1])"
   ]
  },
  {
   "cell_type": "markdown",
   "id": "ca5eef37-9a7e-4d35-952c-03e2698d7c45",
   "metadata": {},
   "source": [
    "# 4. List of Things\n",
    "Create a list called things with the following items:\n",
    "[\"mozzarella\", \"cinderella\", \"salmonella\"]"
   ]
  },
  {
   "cell_type": "code",
   "execution_count": 20,
   "id": "d225a802-ca24-40de-91c3-891339a2010a",
   "metadata": {},
   "outputs": [
    {
     "data": {
      "text/plain": [
       "['mozzarella', 'cinderella', 'salmonella']"
      ]
     },
     "execution_count": 20,
     "metadata": {},
     "output_type": "execute_result"
    }
   ],
   "source": [
    "things = [\"mozzarella\", \"cinderella\", \"salmonella\"]\n",
    "things"
   ]
  },
  {
   "cell_type": "markdown",
   "id": "0894f506-6591-460d-9e94-fffe346d2cc8",
   "metadata": {},
   "source": [
    "# 5. Capitalization Check\n",
    "Capitalize the item that refers to a person in the things list.\n",
    "Print the list. Did the original list change?"
   ]
  },
  {
   "cell_type": "code",
   "execution_count": 21,
   "id": "326eb572-82ef-4e91-9bac-3f4a698a6840",
   "metadata": {},
   "outputs": [
    {
     "name": "stdout",
     "output_type": "stream",
     "text": [
      "Updated list: ['mozzarella', 'Cinderella', 'salmonella']\n"
     ]
    }
   ],
   "source": [
    "things[1] = things[1].capitalize()\n",
    "\n",
    "print(\"Updated list:\", things)"
   ]
  },
  {
   "cell_type": "markdown",
   "id": "b5f5cf62-f5b8-4cf2-9f11-16c72cb7e559",
   "metadata": {},
   "source": [
    "# 6. Surprise List\n",
    "Create a list called surprise_list with these values:\n",
    "[\"Groucho\", \"Chico\", \"Harpo\"]"
   ]
  },
  {
   "cell_type": "code",
   "execution_count": 23,
   "id": "cdc20d22-cb50-4829-9bcb-4c34078d54ab",
   "metadata": {},
   "outputs": [
    {
     "data": {
      "text/plain": [
       "['Groucho', 'Chico', 'Harpo']"
      ]
     },
     "execution_count": 23,
     "metadata": {},
     "output_type": "execute_result"
    }
   ],
   "source": [
    "surprise_list = [\"Groucho\", \"Chico\", \"Harpo\"]\n",
    "surprise_list"
   ]
  },
  {
   "cell_type": "markdown",
   "id": "c3c187d5-1104-429c-ad82-9a85cfc2cf77",
   "metadata": {},
   "source": [
    "# 7. String Transformation\n",
    "Take the last item in surprise_list:\n",
    "\n",
    "- Lowercase it\n",
    "- Reverse it\n",
    "- Capitalize the result\n",
    "  \n",
    "Then print it."
   ]
  },
  {
   "cell_type": "code",
   "execution_count": 34,
   "id": "f5ef0b94-9ac4-4383-80f7-e770cb1fd305",
   "metadata": {},
   "outputs": [
    {
     "name": "stdout",
     "output_type": "stream",
     "text": [
      "Oprah\n"
     ]
    }
   ],
   "source": [
    "last_item = surprise_list[-1]\n",
    "transformed = last_item.lower()[::-1].capitalize()\n",
    "print(transformed)"
   ]
  },
  {
   "cell_type": "markdown",
   "id": "3904a9d6-c4ce-41fa-b8b1-c41db1574a6e",
   "metadata": {},
   "source": [
    "# 8. English-to-French Dictionary\n",
    "Create a dictionary e2f that maps these:\n",
    "- dog → chien\n",
    "- cat → chat\n",
    "- walrus → morse\n",
    "\n",
    "Print the dictionary."
   ]
  },
  {
   "cell_type": "code",
   "execution_count": 35,
   "id": "bb5dadf7-46d5-4b78-9363-3c8c3f45988a",
   "metadata": {},
   "outputs": [
    {
     "data": {
      "text/plain": [
       "{'dog': 'chien', 'cat': 'chat', 'walrus': 'morse'}"
      ]
     },
     "execution_count": 35,
     "metadata": {},
     "output_type": "execute_result"
    }
   ],
   "source": [
    "e2f = {\n",
    "    'dog': 'chien',\n",
    "    'cat': 'chat',\n",
    "    'walrus': 'morse'\n",
    "}\n",
    "e2f"
   ]
  },
  {
   "cell_type": "markdown",
   "id": "40cde330-4042-4f36-955c-68c1f5c8f2db",
   "metadata": {},
   "source": [
    "# 9. Translate 'walrus' to French\n",
    "Use e2f to print the French word for “walrus.”"
   ]
  },
  {
   "cell_type": "code",
   "execution_count": 36,
   "id": "4aecbe07-63e4-49ab-91ab-50a210d53495",
   "metadata": {},
   "outputs": [
    {
     "data": {
      "text/plain": [
       "'morse'"
      ]
     },
     "execution_count": 36,
     "metadata": {},
     "output_type": "execute_result"
    }
   ],
   "source": [
    "e2f['walrus']"
   ]
  },
  {
   "cell_type": "markdown",
   "id": "eea24c1b-6695-4e0d-a11d-113a12490765",
   "metadata": {},
   "source": [
    "# 10. Reverse Dictionary\n",
    "Create a reverse dictionary f2e from e2f using the .items() method.\n",
    "    Print f2e."
   ]
  },
  {
   "cell_type": "code",
   "execution_count": 37,
   "id": "663db1ee-02fb-4091-b0bc-9bc498784003",
   "metadata": {},
   "outputs": [
    {
     "name": "stdout",
     "output_type": "stream",
     "text": [
      "{'chien': 'dog', 'chat': 'cat', 'morse': 'walrus'}\n"
     ]
    }
   ],
   "source": [
    "f2e = {}\n",
    "for english, french in e2f.items():\n",
    "    f2e[french] = english\n",
    "\n",
    "print(f2e)"
   ]
  },
  {
   "cell_type": "markdown",
   "id": "4897162f-1848-406b-a736-339905ce854a",
   "metadata": {},
   "source": [
    "# 11. Translate 'chien' to English\n",
    "Use f2e to print the English word for “chien.”"
   ]
  },
  {
   "cell_type": "code",
   "execution_count": 38,
   "id": "7e8e108c-1692-4188-a974-a5a2a89a9ed1",
   "metadata": {},
   "outputs": [
    {
     "data": {
      "text/plain": [
       "'dog'"
      ]
     },
     "execution_count": 38,
     "metadata": {},
     "output_type": "execute_result"
    }
   ],
   "source": [
    "f2e['chien']"
   ]
  },
  {
   "cell_type": "markdown",
   "id": "7ec84663-3847-414a-87cc-9db2feed8c9f",
   "metadata": {},
   "source": [
    "# 12. Get All English Words\n",
    "Print the set of all English words (the keys from e2f)."
   ]
  },
  {
   "cell_type": "code",
   "execution_count": 41,
   "id": "992d0c78-a49a-4f81-ab8d-adccaf2d964f",
   "metadata": {},
   "outputs": [
    {
     "data": {
      "text/plain": [
       "dict_keys(['dog', 'cat', 'walrus'])"
      ]
     },
     "execution_count": 41,
     "metadata": {},
     "output_type": "execute_result"
    }
   ],
   "source": [
    "e2f.keys()"
   ]
  },
  {
   "cell_type": "markdown",
   "id": "bf4f0867-5f6a-4546-9786-b2a40534f070",
   "metadata": {},
   "source": [
    "# 13. Create a Nested Dictionary (life)\n",
    "Create a dictionary life structured like this:\n",
    "{\n",
    "\n",
    "'animals': {\n",
    "'cats': ['Henri', 'Grumpy', 'Lucy'],\n",
    "'octopi': {},\n",
    "'emus': {}\n",
    "},\n",
    "'plants': {},\n",
    "'other': {}\n",
    "}"
   ]
  },
  {
   "cell_type": "code",
   "execution_count": 42,
   "id": "44a51ca1-cf63-4f98-a2fa-293c1a97b3d1",
   "metadata": {},
   "outputs": [
    {
     "data": {
      "text/plain": [
       "{'animals': {'cats': ['Henri', 'Grumpy', 'Lucy'], 'octopi': {}, 'emus': {}},\n",
       " 'plants': {},\n",
       " 'other': {}}"
      ]
     },
     "execution_count": 42,
     "metadata": {},
     "output_type": "execute_result"
    }
   ],
   "source": [
    "life = {\n",
    "    'animals': {\n",
    "        'cats': ['Henri', 'Grumpy', 'Lucy'],\n",
    "        'octopi': {},\n",
    "        'emus': {}\n",
    "    },\n",
    "    'plants': {},\n",
    "    'other': {}\n",
    "}\n",
    "\n",
    "life"
   ]
  },
  {
   "cell_type": "markdown",
   "id": "5fd33b40-7270-483c-aa13-50f00870fc52",
   "metadata": {},
   "source": [
    "# 14. Top-Level Keys\n",
    "Print the top-level keys of life."
   ]
  },
  {
   "cell_type": "code",
   "execution_count": 43,
   "id": "1805bfef-ea93-4355-b933-2406674853f9",
   "metadata": {},
   "outputs": [
    {
     "data": {
      "text/plain": [
       "dict_keys(['animals', 'plants', 'other'])"
      ]
     },
     "execution_count": 43,
     "metadata": {},
     "output_type": "execute_result"
    }
   ],
   "source": [
    "life.keys()"
   ]
  },
  {
   "cell_type": "markdown",
   "id": "19c90582-5839-4076-8b9a-c2695fbd80af",
   "metadata": {},
   "source": [
    "# 15. Animal Categories\n",
    "Print the keys inside life['animals']."
   ]
  },
  {
   "cell_type": "code",
   "execution_count": 44,
   "id": "c5fd3e19-cba9-4346-b910-194421ba93c6",
   "metadata": {},
   "outputs": [
    {
     "data": {
      "text/plain": [
       "dict_keys(['cats', 'octopi', 'emus'])"
      ]
     },
     "execution_count": 44,
     "metadata": {},
     "output_type": "execute_result"
    }
   ],
   "source": [
    "life['animals'].keys()"
   ]
  },
  {
   "cell_type": "markdown",
   "id": "0b2fbb74-8909-4b5e-bfdd-a6a4b26dc191",
   "metadata": {},
   "source": [
    "# 16. List of Cat Names\n",
    "Print the list of cat names stored in life['animals']['cats']."
   ]
  },
  {
   "cell_type": "code",
   "execution_count": 45,
   "id": "a29c3dc6-df4f-4488-a551-8b0026e061bb",
   "metadata": {},
   "outputs": [
    {
     "data": {
      "text/plain": [
       "['Henri', 'Grumpy', 'Lucy']"
      ]
     },
     "execution_count": 45,
     "metadata": {},
     "output_type": "execute_result"
    }
   ],
   "source": [
    "life['animals']['cats']"
   ]
  },
  {
   "cell_type": "code",
   "execution_count": null,
   "id": "9114f453-0ffa-4bb2-bde7-a4ccf97c8341",
   "metadata": {},
   "outputs": [],
   "source": []
  }
 ],
 "metadata": {
  "kernelspec": {
   "display_name": "Python 3 (ipykernel)",
   "language": "python",
   "name": "python3"
  },
  "language_info": {
   "codemirror_mode": {
    "name": "ipython",
    "version": 3
   },
   "file_extension": ".py",
   "mimetype": "text/x-python",
   "name": "python",
   "nbconvert_exporter": "python",
   "pygments_lexer": "ipython3",
   "version": "3.12.8"
  }
 },
 "nbformat": 4,
 "nbformat_minor": 5
}
